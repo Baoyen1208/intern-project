{
 "cells": [
  {
   "cell_type": "markdown",
   "metadata": {},
   "source": [
    "# 1. Phân lớp ảnh với bộ dữ liệu MNIST\n",
    "\n",
    "\n",
    "## 1.1. Tại sao dùng mạng nơron tích chập\n",
    "Đặc điểm cấu trúc chính của các mạng thông thường là tất cả các nơron được nối với nhau. Thí dụ, khi ta có ảnh xám với kích thước 28 nhân 28 pixel, ta sẽ có 784 (28 x 28 x 1) nơron vào 1 lớp và trong trường hợp này có thể quản lý được. Tuy nhiên hầu hết các ảnh có số pixel nhiều hơn vậy và đồng thời cũng không phải là ảnh xám. Do đó, giả sử ta có tập ảnh mầu dạng 4K Ultra HD, ta sẽ có 26,542,080 (4096 x 2160 x 3) nơron khác nhau được kết nối với nhau ở lớp đầu tiên và rõ ràng là không quản lý được. Do đó ta có thể nói rằng các mạng thông thường không có khả năng mở rộng cho việc phân lớp ảnh. Tuy nhiên, đối với ảnh, dường như chỉ có 1 chút ít tương quan hay quan hệ giữa 2 pixel riêng biệt nếu chúng không gần với nhau. Điều này dẫn tới ý tượng của lớp tích chập và lớp Pooling.\n",
    "\n",
    "## 1.2. Các lớp trong CNN\n",
    "Chúng ta có thể sử dụng nhiều lớp khác nhau trong một mạng nơron tích chập. Tuy nhiên, các lớp convolution, pooling, và fully connect là các lớp quan trọng nhất. Do đó ta sẽ xem qua các lớp này trước khi thể hiện chúng.\n",
    "\n",
    "### Lớp tích chập\n",
    "Lớp tích chập là lớp đầu tiên ta dùng để trích các đặc trưng từ ảnh trong bộ dữ liệu của ta. Do thực tế là các pixel chỉ liên quan tới các pixel kề và gần với nó, tích chập cho phép ta bảo tồn quan hệ giữa các phần khác nhau của ảnh. Tích chập về cơ bản là phép lọc ảnh với bộ lọc có số pixel nhỏ hơn để giảm kích thước của ảnh mà không mất các quan hệ giữa các pixel. Khi ta áp dụng tích chập tới ảnh 5x5 sử dụng bộ lọc 3x3 với bước 1x1 (dịch 1 pixel trong mỗi bước). Cuối cùng ta sẽ có đầu ra 3x3 (giảm 64% độ phức tạp).\n",
    "<img src=\"files/convolutionlayer.png\">\n",
    "\n",
    "### Lớp Pooling\n",
    "Khi xây dựng CNN, ta thường bổ sung các lớp pooling sau mỗi lớp tích chập để giảm kích thước không gian của thể hiện để giảm số tham số mà nghĩa là giảm độ phức tạp tính toán. Thêm nữa, các lớp pooling cũng giúp giảm vấn đề quá khớp (overfitting). Về cơ bản ta chọn một kích thước pooling để giảm số các tham số bằng cách chọn các giá trị lớn nhất, trung bình, hay tổng của các pixel này. Max Pooling, một trong những kỹ thuật pooling phổ biến nhất, có thể được thể hiện như sau:\n",
    "<img src=\"files/poolinglayer.png\">\n",
    "\n",
    "### Tập các lớp Fully Connected\n",
    "Mạng kết nối đầy đủ là mạng thông thường của ta, ở đó mỗi tham số được liên kết tới các khác để xác định quan hệ và ảnh hưởng thật của mỗi tham số tới nhãn. Từ khi độ phức tạp không gian - thời gian của ta đã được giảm đáng kể nhờ các lớp tích chập và pooling, ta có thể xây dựng một mạng kết nối đầy đủ ở cuối của mạng phân lớp ảnh của ta. Tập các lớp kết nối đầy đủ như trong hình sau:\n",
    "<img src=\"files/fullyconnectedlayer.png\">\n",
    "\n",
    "Tới đây ta đã có một số ý tưởng về các lớp riêng rẽ, ta có thể nhìn qua một mạng nơron tích chập hoàn chỉnh.\n",
    "<img src=\"files/cnnexample.jpeg\">\n",
    "\n",
    "Ta đã có ý tưởng về mạng nơron tích chập và như vậy có thể xây dựng một mạng phân lớp ảnhAnd now that you have an idea of convolutional neural network that you can build for image classification, ta có thể lấy tập dữ liệu cho việc phân loại: bộ dữ liệu MNIST, viết tắt của Modified National Institute of Standards and Technology database. Nó là một cơ sở dữ liệu lớn các số viết tay mà thường được sử dụng để luyện các hệ thống xử lý ảnh khác nhau.\n",
    "\n",
    "## 1.3. Tải về dữ liệu Mnist\n",
    "Bộ dữ liệu MNIST là một trong các bộ dữ liệu chung nhất được sử dụng cho việc phân lớp ảnh và có thể nhận được từ nhiều nguồn khác nhau. Trong thực tế, thậm chí Tensorflow và Keras cho phép chúng ta nhập và tải về bộ dữ liệu MNIST trực tiếp từ API của chúng. Do đó, ta sẽ bắt đầu với 2 dòng sau để import tensorflow và bộ dữ liệu MNIST dưới API của Keras.\n"
   ]
  },
  {
   "cell_type": "code",
   "execution_count": 1,
   "metadata": {},
   "outputs": [
    {
     "name": "stderr",
     "output_type": "stream",
     "text": [
      "Using TensorFlow backend.\n"
     ]
    }
   ],
   "source": [
    "from keras.datasets import mnist\n",
    "\n",
    "(x_train, y_train), (x_test, y_test) = mnist.load_data()"
   ]
  },
  {
   "cell_type": "markdown",
   "metadata": {},
   "source": [
    "Bộ dữ liệu MNIST chứa 60,000 ảnh luyện và 10,000 ảnh kiểm định lấy từ nhân viên cục điều tra dân số Mỹ và sinh viên trung học Mỹ. Do đó, trong dòng thứ 2, ta đã phân tách 2 nhóm dữ liệu luyện và dữ liệu kiểm định và cũng phân tách nhãn và ảnh. Các phần x_train và x_test chứa mã độ xám (từ 0 tới 255) trong khi các phần y_train và y_test chứa các nhãn từ 0 tới 9 mà thể hiện số mà ảnh thể hiện. Để trực quan hóa các số này, ta dùng tới thư viện matplotlib."
   ]
  },
  {
   "cell_type": "code",
   "execution_count": 7,
   "metadata": {},
   "outputs": [
    {
     "name": "stdout",
     "output_type": "stream",
     "text": [
      "7\n"
     ]
    },
    {
     "data": {
      "text/plain": [
       "<matplotlib.image.AxesImage at 0x26c9d7fa4e0>"
      ]
     },
     "execution_count": 7,
     "metadata": {},
     "output_type": "execute_result"
    },
    {
     "data": {
      "image/png": "[encoded data removed]",
      "text/plain": [
       "<Figure size 432x288 with 1 Axes>"
      ]
     },
     "metadata": {
      "needs_background": "light"
     },
     "output_type": "display_data"
    }
   ],
   "source": [
    "import matplotlib.pyplot as plt\n",
    "%matplotlib inline \n",
    "image_index = 301 # You may select anything up to 60,000\n",
    "print(y_train[image_index]) # The label is 8\n",
    "plt.imshow(x_train[image_index], cmap='Greys')"
   ]
  },
  {
   "cell_type": "markdown",
   "metadata": {},
   "source": [
    "Chúng ta cũng cần biết và kích thước của bộ dữ liệu để chuyển nó tới mạng nơron tích chập. Do đó, ta sẽ sử dụng thuộc tính “shape” của mảng numpy với mã sau:"
   ]
  },
  {
   "cell_type": "code",
   "execution_count": 8,
   "metadata": {},
   "outputs": [
    {
     "data": {
      "text/plain": [
       "(60000, 28, 28)"
      ]
     },
     "execution_count": 8,
     "metadata": {},
     "output_type": "execute_result"
    }
   ],
   "source": [
    "x_train.shape"
   ]
  },
  {
   "cell_type": "markdown",
   "metadata": {},
   "source": [
    "Ta sẽ nhận được (60000, 28, 28). Như ta có thể thấy 60000 thể hiện số ảnh trong bộ dữ liệu luyện và (28, 28) thể hiện kích thước của ảnh: 28 x 28 pixel."
   ]
  },
  {
   "cell_type": "markdown",
   "metadata": {},
   "source": [
    "## 1.4. Định dạng lại và chuẩn hóa ảnh\n",
    "Để có thể sử dụng bộ dữ liệu từ API của Kerá, ta cần mảng numpy 4-chiều. Tuy nhiên, như ta đã thấy ở trên, mảng của chúng ta làm mảng 3-chiều. Thêm nữa, ta phải chuẩn hóa dữ liệu của ta như nó thường được đòi hỏi ở các mô hình mạng nơron. Ta có thể có được điều này bằng cách chia mã xãm cho 255 (mà là giá trị lớn nhất trừ đi giá trị nhỏ nhất. Xem đoạn mã sau:"
   ]
  },
  {
   "cell_type": "code",
   "execution_count": 9,
   "metadata": {},
   "outputs": [
    {
     "name": "stdout",
     "output_type": "stream",
     "text": [
      "x_train shape: (60000, 28, 28, 1)\n",
      "Number of images in x_train 60000\n",
      "Number of images in x_test 10000\n"
     ]
    }
   ],
   "source": [
    "# Reshaping the array to 4-dims so that it can work with the Keras API\n",
    "x_train = x_train.reshape(x_train.shape[0], 28, 28, 1)\n",
    "x_test = x_test.reshape(x_test.shape[0], 28, 28, 1)\n",
    "input_shape = (28, 28, 1)\n",
    "# Making sure that the values are float so that we can get decimal points after division\n",
    "x_train = x_train.astype('float32')\n",
    "x_test = x_test.astype('float32')\n",
    "# Normalizing the RGB codes by dividing it to the max RGB value.\n",
    "x_train /= 255\n",
    "x_test /= 255\n",
    "print('x_train shape:', x_train.shape)\n",
    "print('Number of images in x_train', x_train.shape[0])\n",
    "print('Number of images in x_test', x_test.shape[0])"
   ]
  },
  {
   "cell_type": "markdown",
   "metadata": {},
   "source": [
    "## 1.5. Xây dựng mạng nơron tích chập\n",
    "Ta sẽ xây dựng mô hình bằng cách sử dụng API mức cao của Keras mà có thể sử dụng TensorFlow hay Theano như backend. Để ý rằng có một vài API mức cao của TensorFlow như Layers, Keras, và Estimators mà giúp ta tạo mạng nơron với tri thức mức cao. Do đó, ta có thể thấy các mã rất khác nhau của cùng một mạng nơron sử dụng tensorflow. Ta sẽ sử dụng trực tiếp các API của Keras. Do đó ta import Sequential Model from Keras và bổ sung các lớp Conv2D, MaxPooling, Flatten, Dropout, và Dense. Ta đã biết về các lớp Conv2D, Maxpooling, và Dense. Thêm vào đó, lớp Dropout loại bỏ overfitting bằng cách lờ đi một số nơron trong khi luyện. Lớp Flatten phẳng hóa mảng 2 chiều thành mảng 1 chiều trước khi xây dựng mạng kết nối đầy đủ."
   ]
  },
  {
   "cell_type": "code",
   "execution_count": 10,
   "metadata": {},
   "outputs": [
    {
     "name": "stdout",
     "output_type": "stream",
     "text": [
      "WARNING:tensorflow:From C:\\Anaconda3\\envs\\training\\lib\\site-packages\\tensorflow\\python\\ops\\resource_variable_ops.py:435: colocate_with (from tensorflow.python.framework.ops) is deprecated and will be removed in a future version.\n",
      "Instructions for updating:\n",
      "Colocations handled automatically by placer.\n",
      "Model: \"sequential_1\"\n",
      "_________________________________________________________________\n",
      "Layer (type)                 Output Shape              Param #   \n",
      "=================================================================\n",
      "conv2d_1 (Conv2D)            (None, 26, 26, 28)        280       \n",
      "_________________________________________________________________\n",
      "max_pooling2d_1 (MaxPooling2 (None, 13, 13, 28)        0         \n",
      "_________________________________________________________________\n",
      "flatten_1 (Flatten)          (None, 4732)              0         \n",
      "_________________________________________________________________\n",
      "dense_1 (Dense)              (None, 128)               605824    \n",
      "_________________________________________________________________\n",
      "dropout_1 (Dropout)          (None, 128)               0         \n",
      "_________________________________________________________________\n",
      "dense_2 (Dense)              (None, 10)                1290      \n",
      "=================================================================\n",
      "Total params: 607,394\n",
      "Trainable params: 607,394\n",
      "Non-trainable params: 0\n",
      "_________________________________________________________________\n"
     ]
    }
   ],
   "source": [
    "# Importing the required Keras modules containing model and layers\n",
    "import tensorflow as tf\n",
    "from keras.models import Sequential\n",
    "from keras.layers import Dense, Conv2D, Dropout, Flatten, MaxPooling2D\n",
    "# Creating a Sequential Model and adding the layers\n",
    "model = Sequential()\n",
    "model.add(Conv2D(28, kernel_size=(3,3), input_shape=input_shape))\n",
    "model.add(MaxPooling2D(pool_size=(2, 2)))\n",
    "# model.add(Conv2D(60, kernel_size(3,3))\n",
    "model.add(Flatten()) # Flattening the 2D arrays for fully connected layers\n",
    "model.add(Dense(128, activation=tf.nn.relu))\n",
    "model.add(Dropout(0.2))\n",
    "model.add(Dense(10,activation=tf.nn.softmax))\n",
    "model.summary()"
   ]
  },
  {
   "cell_type": "markdown",
   "metadata": {},
   "source": [
    "Ta có thể thử với một số nào đó đối với lớp Dense đầu; tuy nhiên lớp Dense sau phải có 10 nơron do ta có 10 lớp (0, 1, 2, …, 9). Ta có thể thử với kernel size, pool size, activation functions, dropout rate, và số nơron ở lớp Dense đầu để nhận kết quả tốt hơn"
   ]
  },
  {
   "cell_type": "markdown",
   "metadata": {},
   "source": [
    "## 1.6. Dịch và luyện mô hình\n",
    "Vớ mã ở trên, ta đã tạo một mạng CNN rỗng, chưa tối ưu. Đây là lúc thiết lập bộ tối ưu với hàm mất mát và sử dụng một số đo. Sau đó ta có thể luywwnj mô hình sử dụng dữ liệu luyện của ta. Chúng ta sẽ sử dụng mã sau cho các công việc này:"
   ]
  },
  {
   "cell_type": "code",
   "execution_count": 11,
   "metadata": {},
   "outputs": [
    {
     "name": "stdout",
     "output_type": "stream",
     "text": [
      "Epoch 1/10\n",
      "60000/60000 [==============================] - 44s 728us/step - loss: 0.2032 - accuracy: 0.9391\n",
      "Epoch 2/10\n",
      "60000/60000 [==============================] - 44s 736us/step - loss: 0.0837 - accuracy: 0.9746\n",
      "Epoch 3/10\n",
      "60000/60000 [==============================] - 44s 737us/step - loss: 0.0576 - accuracy: 0.9817\n",
      "Epoch 4/10\n",
      "60000/60000 [==============================] - 45s 751us/step - loss: 0.0441 - accuracy: 0.9859\n",
      "Epoch 5/10\n",
      "60000/60000 [==============================] - 45s 742us/step - loss: 0.0353 - accuracy: 0.9882\n",
      "Epoch 6/10\n",
      "60000/60000 [==============================] - 45s 743us/step - loss: 0.0283 - accuracy: 0.9906\n",
      "Epoch 7/10\n",
      "60000/60000 [==============================] - 43s 708us/step - loss: 0.0243 - accuracy: 0.9918\n",
      "Epoch 8/10\n",
      "60000/60000 [==============================] - 41s 686us/step - loss: 0.0228 - accuracy: 0.9923\n",
      "Epoch 9/10\n",
      "60000/60000 [==============================] - 44s 728us/step - loss: 0.0179 - accuracy: 0.9934\n",
      "Epoch 10/10\n",
      "60000/60000 [==============================] - 45s 747us/step - loss: 0.0170 - accuracy: 0.9943\n"
     ]
    },
    {
     "data": {
      "text/plain": [
       "<keras.callbacks.callbacks.History at 0x26c9d831c18>"
      ]
     },
     "execution_count": 11,
     "metadata": {},
     "output_type": "execute_result"
    }
   ],
   "source": [
    "model.compile(optimizer='adam', \n",
    "              loss='sparse_categorical_crossentropy', \n",
    "              metrics=['accuracy'])\n",
    "model.fit(x=x_train,y=y_train, epochs=10)"
   ]
  },
  {
   "cell_type": "markdown",
   "metadata": {},
   "source": [
    "Ta có thể thử với optimizer, loss function, metrics, và epochs. Tuy nhiên, ta có thể nói rằng bộ tối ưu adam thường tốt hơn các bộ tối ưu khác. Ở đây số epoch có vẻ hơi nhỏ. Tuy nhiên ta sẽ tiến tới độ chính xác kiểm định là 98–99%. Do bộ dữ liệu MNIST không yêu cầu năng lực tính toán nhiều, ta có thể dễ dàng thử với số epoch lớn hơn."
   ]
  },
  {
   "cell_type": "markdown",
   "metadata": {},
   "source": [
    "## 1.7. Đánh giá mô hình\n",
    "Cuối cùng, ta có thể đánh giá mô hình đã được luyện với x_test và y_test sử dụng 1 dòng mã:"
   ]
  },
  {
   "cell_type": "code",
   "execution_count": 13,
   "metadata": {},
   "outputs": [
    {
     "name": "stdout",
     "output_type": "stream",
     "text": [
      "10000/10000 [==============================] - 2s 151us/step\n"
     ]
    },
    {
     "data": {
      "text/plain": [
       "[0.06268354122400488, 0.9843999743461609]"
      ]
     },
     "execution_count": 13,
     "metadata": {},
     "output_type": "execute_result"
    }
   ],
   "source": [
    "model.evaluate(x_test, y_test)"
   ]
  },
  {
   "cell_type": "markdown",
   "metadata": {},
   "source": [
    "Chúng ta đã đạt được độ chính xác 98.5% với một mô hình cơ bản như vậy. Thành thật mà nói, trong nhiều trường hợp phân lớp ảnh (thí dụ với ô tô tự lái), ta thậm chí không thể chấp nhận lỗi 0.1% do nó sẽ gây ra 1 tai nạn trong số 1000 trường hợp. Tuy nhiên, đối với mô hình của ta, ta có thể nói kết quả tương đối tốt. Ta cũng có thể thực hiện các phép dự đoán với mã sau:"
   ]
  },
  {
   "cell_type": "code",
   "execution_count": 18,
   "metadata": {},
   "outputs": [
    {
     "name": "stdout",
     "output_type": "stream",
     "text": [
      "6\n"
     ]
    },
    {
     "data": {
      "image/png": "[encoded data removed]",
      "text/plain": [
       "<Figure size 432x288 with 1 Axes>"
      ]
     },
     "metadata": {
      "needs_background": "light"
     },
     "output_type": "display_data"
    }
   ],
   "source": [
    "image_index = 4252\n",
    "plt.imshow(x_test[image_index].reshape(28, 28),cmap='Greys')\n",
    "pred = model.predict(x_test[image_index].reshape(1, 28, 28, 1))\n",
    "print(pred.argmax())"
   ]
  },
  {
   "cell_type": "code",
   "execution_count": 12,
   "metadata": {},
   "outputs": [],
   "source": [
    "#save model\n",
    "model.save(\"model-mnist.h5\")"
   ]
  },
  {
   "cell_type": "markdown",
   "metadata": {},
   "source": [
    "## 1.8. Giải thích\n",
    "Sử dụng sparse categorical crossentropy khi các lớp của ta loại trừ lẫn nhau (thí dụ mỗi mẫu thuộc về chính xác 1 lớp) và  categorical crossentropy khi một mẫu có thể có nhiều lớp hay nhãn là xác suất mềm (như [0.5, 0.3, 0.2]).\n",
    "<img src='files/crossentropy.png'>"
   ]
  }
 ],
 "metadata": {
  "kernelspec": {
   "display_name": "Python 3",
   "language": "python",
   "name": "python3"
  },
  "language_info": {
   "codemirror_mode": {
    "name": "ipython",
    "version": 3
   },
   "file_extension": ".py",
   "mimetype": "text/x-python",
   "name": "python",
   "nbconvert_exporter": "python",
   "pygments_lexer": "ipython3",
   "version": "3.7.7"
  }
 },
 "nbformat": 4,
 "nbformat_minor": 2
}
