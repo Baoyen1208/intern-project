{
 "cells": [
  {
   "cell_type": "markdown",
   "metadata": {},
   "source": [
    "# Bài toán:\n",
    "Xác định nhãn của các bài báo văn bản Tiếng Việt"
   ]
  },
  {
   "cell_type": "code",
   "execution_count": 1,
   "metadata": {},
   "outputs": [],
   "source": [
    "from pyvi import ViTokenizer, ViPosTagger # thư viện NLP tiếng Việt\n",
    "from tqdm import tqdm\n",
    "import numpy as np\n",
    "import gensim # thư viện NLP\n",
    "import json\n",
    "import os\n",
    "# import warnings filter\n",
    "from warnings import simplefilter\n",
    "# ignore all future warnings\n",
    "simplefilter(action='ignore', category=FutureWarning)"
   ]
  },
  {
   "cell_type": "code",
   "execution_count": 2,
   "metadata": {},
   "outputs": [],
   "source": [
    "#Stop-words\n",
    "from string import punctuation\n",
    "stop_word = []\n",
    "with open(r\"C:\\Users\\ASUS ZenBook\\OneDrive\\Desktop\\vietnamese-stopwords-master\\vietnamese-stopwords.txt\",encoding=\"utf-8\") as f :\n",
    "    text = f.read()\n",
    "    for word in text.split() :\n",
    "        stop_word.append(word)\n",
    "    f.close()"
   ]
  },
  {
   "cell_type": "code",
   "execution_count": 3,
   "metadata": {},
   "outputs": [
    {
     "name": "stdout",
     "output_type": "stream",
     "text": [
      "['a', 'lô', 'a', 'ha', 'ai', 'ai', 'ai', 'ai', 'nấy', 'ai', 'đó', 'alô', 'amen', 'anh', 'anh', 'ấy', 'ba', 'ba', 'ba', 'ba', 'bản', 'ba', 'cùng', 'ba', 'họ', 'ba', 'ngày', 'ba', 'ngôi', 'ba', 'tăng', 'bao', 'giờ', 'bao', 'lâu', 'bao', 'nhiêu', 'bao', 'nả', 'bay', 'biến', 'biết', 'biết', 'bao', 'biết', 'bao', 'nhiêu', 'biết', 'chắc', 'biết', 'chừng', 'nào', 'biết', 'mình', 'biết', 'mấy', 'biết', 'thế', 'biết', 'trước', 'biết', 'việc', 'biết', 'đâu', 'biết', 'đâu', 'chừng', 'biết', 'đâu', 'đấy', 'biết', 'được', 'buổi', 'buổi', 'làm', 'buổi', 'mới', 'buổi', 'ngày', 'buổi', 'sớm', 'bà', 'bà', 'ấy', 'bài', 'bài', 'bác', 'bài', 'bỏ', 'bài', 'cái', 'bác', 'bán', 'bán', 'cấp', 'bán', 'dạ', 'bán', 'thế', 'bây', 'bẩy', 'bây', 'chừ', 'bây', 'giờ', 'bây', 'nhiêu', 'bèn', 'béng', 'bên', 'bên', 'bị', 'bên', 'có', 'bên', 'cạnh', 'bông', 'bước', 'bước', 'khỏi', 'bước', 'tới', 'bước', 'đi', 'bạn', 'bản', 'bản', 'bộ', 'bản', 'riêng', 'bản', 'thân', 'bản', 'ý', 'bất', 'chợt', 'bất', 'cứ', 'bất', 'giác', 'bất', 'kì', 'bất', 'kể', 'bất', 'kỳ', 'bất', 'luận', 'bất', 'ngờ', 'bất', 'nhược', 'bất', 'quá', 'bất', 'quá', 'chỉ', 'bất', 'thình', 'lình', 'bất', 'tử', 'bất', 'đồ', 'bấy', 'bấy', 'chầy', 'bấy', 'chừ', 'bấy', 'giờ', 'bấy', 'lâu', 'bấy', 'lâu', 'nay', 'bấy', 'nay', 'bấy', 'nhiêu', 'bập', 'bà', 'bập', 'bõm', 'bập', 'bõm', 'bắt', 'đầu', 'bắt', 'đầu', 'từ', 'bằng', 'bằng', 'cứ', 'bằng', 'không', 'bằng', 'người', 'bằng', 'nhau', 'bằng', 'như', 'bằng', 'nào', 'bằng', 'nấy', 'bằng', 'vào', 'bằng', 'được', 'bằng', 'ấy', 'bển', 'bệt', 'bị', 'bị', 'chú', 'bị', 'vì', 'bỏ', 'bỏ', 'bà', 'bỏ', 'cha', 'bỏ', 'cuộc', 'bỏ', 'không', 'bỏ', 'lại', 'bỏ', 'mình', 'bỏ', 'mất', 'bỏ', 'mẹ', 'bỏ', 'nhỏ', 'bỏ', 'quá', 'bỏ', 'ra', 'bỏ', 'riêng', 'bỏ', 'việc', 'bỏ', 'xa', 'bỗng', 'bỗng', 'chốc', 'bỗng', 'dưng', 'bỗng', 'không', 'bỗng', 'nhiên', 'bỗng', 'nhưng', 'bỗng', 'thấy', 'bỗng', 'đâu', 'bộ', 'bộ', 'thuộc', 'bộ', 'điều', 'bội', 'phần', 'bớ', 'bởi', 'bởi', 'ai', 'bởi', 'chưng', 'bởi', 'nhưng', 'bởi', 'sao', 'bởi', 'thế', 'bởi', 'thế', 'cho', 'nên', 'bởi', 'tại', 'bởi', 'vì', 'bởi', 'vậy', 'bởi', 'đâu', 'bức', 'cao', 'cao', 'lâu', 'cao', 'ráo', 'cao', 'răng', 'cao', 'sang', 'cao', 'số', 'cao', 'thấp', 'cao', 'thế', 'cao', 'xa', 'cha', 'cha', 'chả', 'chao', 'ôi', 'chia', 'sẻ', 'chiếc', 'cho', 'cho', 'biết', 'cho', 'chắc', 'cho', 'hay', 'cho', 'nhau', 'cho', 'nên', 'cho', 'rằng', 'cho', 'rồi', 'cho', 'thấy', 'cho', 'tin', 'cho', 'tới', 'cho', 'tới', 'khi', 'cho', 'về', 'cho', 'ăn', 'cho', 'đang', 'cho', 'được', 'cho', 'đến', 'cho', 'đến', 'khi', 'cho', 'đến', 'nỗi', 'choa', 'chu', 'cha', 'chui', 'cha', 'chung', 'chung', 'cho', 'chung', 'chung', 'chung', 'cuộc', 'chung', 'cục', 'chung', 'nhau', 'chung', 'qui', 'chung', 'quy', 'chung', 'quy', 'lại', 'chung', 'ái', 'chuyển', 'chuyển', 'tự', 'chuyển', 'đạt', 'chuyện', 'chuẩn', 'bị', 'chành', 'chạnh', 'chí', 'chết', 'chính', 'chính', 'bản', 'chính', 'giữa', 'chính', 'là', 'chính', 'thị', 'chính', 'điểm', 'chùn', 'chùn', 'chùn', 'chũn', 'chú', 'chú', 'dẫn', 'chú', 'khách', 'chú', 'mày', 'chú', 'mình', 'chúng', 'chúng', 'mình', 'chúng', 'ta', 'chúng', 'tôi', 'chúng', 'ông', 'chăn', 'chắn', 'chăng', 'chăng', 'chắc', 'chăng', 'nữa', 'chơi', 'chơi', 'họ', 'chưa', 'chưa', 'bao', 'giờ', 'chưa', 'chắc', 'chưa', 'có', 'chưa', 'cần', 'chưa', 'dùng', 'chưa', 'dễ', 'chưa', 'kể', 'chưa', 'tính', 'chưa', 'từng', 'chầm', 'chập', 'chậc', 'chắc', 'chắc', 'chắn', 'chắc', 'dạ', 'chắc', 'hẳn', 'chắc', 'lòng', 'chắc', 'người', 'chắc', 'vào', 'chắc', 'ăn', 'chẳng', 'lẽ', 'chẳng', 'những', 'chẳng', 'nữa', 'chẳng', 'phải', 'chết', 'nỗi', 'chết', 'thật', 'chết', 'tiệt', 'chỉ', 'chỉ', 'chính', 'chỉ', 'có', 'chỉ', 'là', 'chỉ', 'tên', 'chỉn', 'chị', 'chị', 'bộ', 'chị', 'ấy', 'chịu', 'chịu', 'chưa', 'chịu', 'lời', 'chịu', 'tốt', 'chịu', 'ăn', 'chọn', 'chọn', 'bên', 'chọn', 'ra', 'chốc', 'chốc', 'chớ', 'chớ', 'chi', 'chớ', 'gì', 'chớ', 'không', 'chớ', 'kể', 'chớ', 'như', 'chợt', 'chợt', 'nghe', 'chợt', 'nhìn', 'chủn', 'chứ', 'chứ', 'ai', 'chứ', 'còn', 'chứ', 'gì', 'chứ', 'không', 'chứ', 'không', 'phải', 'chứ', 'lại', 'chứ', 'lị', 'chứ', 'như', 'chứ', 'sao', 'coi', 'bộ', 'coi', 'mòi', 'con', 'con', 'con', 'con', 'dạ', 'con', 'nhà', 'con', 'tính', 'cu', 'cậu', 'cuối', 'cuối', 'cùng', 'cuối', 'điểm', 'cuốn', 'cuộc', 'càng', 'càng', 'càng', 'càng', 'hay', 'cá', 'nhân', 'các', 'các', 'cậu', 'cách', 'cách', 'bức', 'cách', 'không', 'cách', 'nhau', 'cách', 'đều', 'cái', 'cái', 'gì', 'cái', 'họ', 'cái', 'đã', 'cái', 'đó', 'cái', 'ấy', 'câu', 'hỏi', 'cây', 'cây', 'nước', 'còn', 'còn', 'như', 'còn', 'nữa', 'còn', 'thời', 'gian', 'còn', 'về', 'có', 'có', 'ai', 'có', 'chuyện', 'có', 'chăng', 'có', 'chăng', 'là', 'có', 'chứ', 'có', 'cơ', 'có', 'dễ', 'có', 'họ', 'có', 'khi', 'có', 'ngày', 'có', 'người', 'có', 'nhiều', 'có', 'nhà', 'có', 'phải', 'có', 'số', 'có', 'tháng', 'có', 'thế', 'có', 'thể', 'có', 'vẻ', 'có', 'ý', 'có', 'ăn', 'có', 'điều', 'có', 'điều', 'kiện', 'có', 'đáng', 'có', 'đâu', 'có', 'được', 'cóc', 'khô', 'cô', 'cô', 'mình', 'cô', 'quả', 'cô', 'tăng', 'cô', 'ấy', 'công', 'nhiên', 'cùng', 'cùng', 'chung', 'cùng', 'cực', 'cùng', 'nhau', 'cùng', 'tuổi', 'cùng', 'tột', 'cùng', 'với', 'cùng', 'ăn', 'căn', 'căn', 'cái', 'căn', 'cắt', 'căn', 'tính', 'cũng', 'cũng', 'như', 'cũng', 'nên', 'cũng', 'thế', 'cũng', 'vậy', 'cũng', 'vậy', 'thôi', 'cũng', 'được', 'cơ', 'cơ', 'chỉ', 'cơ', 'chừng', 'cơ', 'cùng', 'cơ', 'dẫn', 'cơ', 'hồ', 'cơ', 'hội', 'cơ', 'mà', 'cơn', 'cả', 'cả', 'nghe', 'cả', 'nghĩ', 'cả', 'ngày', 'cả', 'người', 'cả', 'nhà', 'cả', 'năm', 'cả', 'thảy', 'cả', 'thể', 'cả', 'tin', 'cả', 'ăn', 'cả', 'đến', 'cảm', 'thấy', 'cảm', 'ơn', 'cấp', 'cấp', 'số', 'cấp', 'trực', 'tiếp', 'cần', 'cần', 'cấp', 'cần', 'gì', 'cần', 'số', 'cật', 'lực', 'cật', 'sức', 'cậu', 'cổ', 'lai', 'cụ', 'thể', 'cụ', 'thể', 'là', 'cụ', 'thể', 'như', 'của', 'của', 'ngọt', 'của', 'tin', 'cứ', 'cứ', 'như', 'cứ', 'việc', 'cứ', 'điểm', 'cực', 'lực', 'do', 'do', 'vì', 'do', 'vậy', 'do', 'đó', 'duy', 'duy', 'chỉ', 'duy', 'có', 'dài', 'dài', 'lời', 'dài', 'ra', 'dành', 'dành', 'dành', 'dào', 'dì', 'dù', 'dù', 'cho', 'dù', 'dì', 'dù', 'gì', 'dù', 'rằng', 'dù', 'sao', 'dùng', 'dùng', 'cho', 'dùng', 'hết', 'dùng', 'làm', 'dùng', 'đến', 'dưới', 'dưới', 'nước', 'dạ', 'dạ', 'bán', 'dạ', 'con', 'dạ', 'dài', 'dạ', 'dạ', 'dạ', 'khách', 'dần', 'dà', 'dần', 'dần', 'dầu', 'sao', 'dẫn', 'dẫu', 'dẫu', 'mà', 'dẫu', 'rằng', 'dẫu', 'sao', 'dễ', 'dễ', 'dùng', 'dễ', 'gì', 'dễ', 'khiến', 'dễ', 'nghe', 'dễ', 'ngươi', 'dễ', 'như', 'chơi', 'dễ', 'sợ', 'dễ', 'sử', 'dụng', 'dễ', 'thường', 'dễ', 'thấy', 'dễ', 'ăn', 'dễ', 'đâu', 'dở', 'chừng', 'dữ', 'dữ', 'cách', 'em', 'em', 'em', 'giá', 'trị', 'giá', 'trị', 'thực', 'tế', 'giảm', 'giảm', 'chính', 'giảm', 'thấp', 'giảm', 'thế', 'giống', 'giống', 'người', 'giống', 'nhau', 'giống', 'như', 'giờ', 'giờ', 'lâu', 'giờ', 'này', 'giờ', 'đi', 'giờ', 'đây', 'giờ', 'đến', 'giữ', 'giữ', 'lấy', 'giữ', 'ý', 'giữa', 'giữa', 'lúc', 'gây', 'gây', 'cho', 'gây', 'giống', 'gây', 'ra', 'gây', 'thêm', 'gì', 'gì', 'gì', 'gì', 'đó', 'gần', 'gần', 'bên', 'gần', 'hết', 'gần', 'ngày', 'gần', 'như', 'gần', 'xa', 'gần', 'đây', 'gần', 'đến', 'gặp', 'gặp', 'khó', 'khăn', 'gặp', 'phải', 'gồm', 'hay', 'hay', 'biết', 'hay', 'hay', 'hay', 'không', 'hay', 'là', 'hay', 'làm', 'hay', 'nhỉ', 'hay', 'nói', 'hay', 'sao', 'hay', 'tin', 'hay', 'đâu', 'hiểu', 'hiện', 'nay', 'hiện', 'tại', 'hoàn', 'toàn', 'hoặc', 'hoặc', 'là', 'hãy', 'hãy', 'còn', 'hơn', 'hơn', 'cả', 'hơn', 'hết', 'hơn', 'là', 'hơn', 'nữa', 'hơn', 'trước', 'hầu', 'hết', 'hết', 'hết', 'chuyện', 'hết', 'cả', 'hết', 'của', 'hết', 'nói', 'hết', 'ráo', 'hết', 'rồi', 'hết', 'ý', 'họ', 'họ', 'gần', 'họ', 'xa', 'hỏi', 'hỏi', 'lại', 'hỏi', 'xem', 'hỏi', 'xin', 'hỗ', 'trợ', 'khi', 'khi', 'khác', 'khi', 'không', 'khi', 'nào', 'khi', 'nên', 'khi', 'trước', 'khiến', 'khoảng', 'khoảng', 'cách', 'khoảng', 'không', 'khá', 'khá', 'tốt', 'khác', 'khác', 'gì', 'khác', 'khác', 'khác', 'nhau', 'khác', 'nào', 'khác', 'thường', 'khác', 'xa', 'khách', 'khó', 'khó', 'biết', 'khó', 'chơi', 'khó', 'khăn', 'khó', 'làm', 'khó', 'mở', 'khó', 'nghe', 'khó', 'nghĩ', 'khó', 'nói', 'khó', 'thấy', 'khó', 'tránh', 'không', 'không', 'ai', 'không', 'bao', 'giờ', 'không', 'bao', 'lâu', 'không', 'biết', 'không', 'bán', 'không', 'chỉ', 'không', 'còn', 'không', 'có', 'không', 'có', 'gì', 'không', 'cùng', 'không', 'cần', 'không', 'cứ', 'không', 'dùng', 'không', 'gì', 'không', 'hay', 'không', 'khỏi', 'không', 'kể', 'không', 'ngoài', 'không', 'nhận', 'không', 'những', 'không', 'phải', 'không', 'phải', 'không', 'không', 'thể', 'không', 'tính', 'không', 'điều', 'kiện', 'không', 'được', 'không', 'đầy', 'không', 'để', 'khẳng', 'định', 'khỏi', 'khỏi', 'nói', 'kể', 'kể', 'cả', 'kể', 'như', 'kể', 'tới', 'kể', 'từ', 'liên', 'quan', 'loại', 'loại', 'từ', 'luôn', 'luôn', 'cả', 'luôn', 'luôn', 'luôn', 'tay', 'là', 'là', 'cùng', 'là', 'là', 'là', 'nhiều', 'là', 'phải', 'là', 'thế', 'nào', 'là', 'vì', 'là', 'ít', 'làm', 'làm', 'bằng', 'làm', 'cho', 'làm', 'dần', 'dần', 'làm', 'gì', 'làm', 'lòng', 'làm', 'lại', 'làm', 'lấy', 'làm', 'mất', 'làm', 'ngay', 'làm', 'như', 'làm', 'nên', 'làm', 'ra', 'làm', 'riêng', 'làm', 'sao', 'làm', 'theo', 'làm', 'thế', 'nào', 'làm', 'tin', 'làm', 'tôi', 'làm', 'tăng', 'làm', 'tại', 'làm', 'tắp', 'lự', 'làm', 'vì', 'làm', 'đúng', 'làm', 'được', 'lâu', 'lâu', 'các', 'lâu', 'lâu', 'lâu', 'nay', 'lâu', 'ngày', 'lên', 'lên', 'cao', 'lên', 'cơn', 'lên', 'mạnh', 'lên', 'ngôi', 'lên', 'nước', 'lên', 'số', 'lên', 'xuống', 'lên', 'đến', 'lòng', 'lòng', 'không', 'lúc', 'lúc', 'khác', 'lúc', 'lâu', 'lúc', 'nào', 'lúc', 'này', 'lúc', 'sáng', 'lúc', 'trước', 'lúc', 'đi', 'lúc', 'đó', 'lúc', 'đến', 'lúc', 'ấy', 'lý', 'do', 'lượng', 'lượng', 'cả', 'lượng', 'số', 'lượng', 'từ', 'lại', 'lại', 'bộ', 'lại', 'cái', 'lại', 'còn', 'lại', 'giống', 'lại', 'làm', 'lại', 'người', 'lại', 'nói', 'lại', 'nữa', 'lại', 'quả', 'lại', 'thôi', 'lại', 'ăn', 'lại', 'đây', 'lấy', 'lấy', 'có', 'lấy', 'cả', 'lấy', 'giống', 'lấy', 'làm', 'lấy', 'lý', 'do', 'lấy', 'lại', 'lấy', 'ra', 'lấy', 'ráo', 'lấy', 'sau', 'lấy', 'số', 'lấy', 'thêm', 'lấy', 'thế', 'lấy', 'vào', 'lấy', 'xuống', 'lấy', 'được', 'lấy', 'để', 'lần', 'lần', 'khác', 'lần', 'lần', 'lần', 'nào', 'lần', 'này', 'lần', 'sang', 'lần', 'sau', 'lần', 'theo', 'lần', 'trước', 'lần', 'tìm', 'lớn', 'lớn', 'lên', 'lớn', 'nhỏ', 'lời', 'lời', 'chú', 'lời', 'nói', 'mang', 'mang', 'lại', 'mang', 'mang', 'mang', 'nặng', 'mang', 'về', 'muốn', 'mà', 'mà', 'cả', 'mà', 'không', 'mà', 'lại', 'mà', 'thôi', 'mà', 'vẫn', 'mình', 'mạnh', 'mất', 'mất', 'còn', 'mọi', 'mọi', 'giờ', 'mọi', 'khi', 'mọi', 'lúc', 'mọi', 'người', 'mọi', 'nơi', 'mọi', 'sự', 'mọi', 'thứ', 'mọi', 'việc', 'mối', 'mỗi', 'mỗi', 'lúc', 'mỗi', 'lần', 'mỗi', 'một', 'mỗi', 'ngày', 'mỗi', 'người', 'một', 'một', 'cách', 'một', 'cơn', 'một', 'khi', 'một', 'lúc', 'một', 'số', 'một', 'vài', 'một', 'ít', 'mới', 'mới', 'hay', 'mới', 'rồi', 'mới', 'đây', 'mở', 'mở', 'mang', 'mở', 'nước', 'mở', 'ra', 'mợ', 'mức', 'nay', 'ngay', 'ngay', 'bây', 'giờ', 'ngay', 'cả', 'ngay', 'khi', 'ngay', 'khi', 'đến', 'ngay', 'lúc', 'ngay', 'lúc', 'này', 'ngay', 'lập', 'tức', 'ngay', 'thật', 'ngay', 'tức', 'khắc', 'ngay', 'tức', 'thì', 'ngay', 'từ', 'nghe', 'nghe', 'chừng', 'nghe', 'hiểu', 'nghe', 'không', 'nghe', 'lại', 'nghe', 'nhìn', 'nghe', 'như', 'nghe', 'nói', 'nghe', 'ra', 'nghe', 'rõ', 'nghe', 'thấy', 'nghe', 'tin', 'nghe', 'trực', 'tiếp', 'nghe', 'đâu', 'nghe', 'đâu', 'như', 'nghe', 'được', 'nghen', 'nghiễm', 'nhiên', 'nghĩ', 'nghĩ', 'lại', 'nghĩ', 'ra', 'nghĩ', 'tới', 'nghĩ', 'xa', 'nghĩ', 'đến', 'nghỉm', 'ngoài', 'ngoài', 'này', 'ngoài', 'ra', 'ngoài', 'xa', 'ngoải', 'nguồn', 'ngày', 'ngày', 'càng', 'ngày', 'cấp', 'ngày', 'giờ', 'ngày', 'ngày', 'ngày', 'nào', 'ngày', 'này', 'ngày', 'nọ', 'ngày', 'qua', 'ngày', 'rày', 'ngày', 'tháng', 'ngày', 'xưa', 'ngày', 'xửa', 'ngày', 'đến', 'ngày', 'ấy', 'ngôi', 'ngôi', 'nhà', 'ngôi', 'thứ', 'ngõ', 'hầu', 'ngăn', 'ngắt', 'ngươi', 'người', 'người', 'hỏi', 'người', 'khác', 'người', 'khách', 'người', 'mình', 'người', 'nghe', 'người', 'người', 'người', 'nhận', 'ngọn', 'ngọn', 'nguồn', 'ngọt', 'ngồi', 'ngồi', 'bệt', 'ngồi', 'không', 'ngồi', 'sau', 'ngồi', 'trệt', 'ngộ', 'nhỡ', 'nhanh', 'nhanh', 'lên', 'nhanh', 'tay', 'nhau', 'nhiên', 'hậu', 'nhiều', 'nhiều', 'ít', 'nhiệt', 'liệt', 'nhung', 'nhăng', 'nhà', 'nhà', 'chung', 'nhà', 'khó', 'nhà', 'làm', 'nhà', 'ngoài', 'nhà', 'ngươi', 'nhà', 'tôi', 'nhà', 'việc', 'nhân', 'dịp', 'nhân', 'tiện', 'nhé', 'nhìn', 'nhìn', 'chung', 'nhìn', 'lại', 'nhìn', 'nhận', 'nhìn', 'theo', 'nhìn', 'thấy', 'nhìn', 'xuống', 'nhóm', 'nhón', 'nhén', 'như', 'như', 'ai', 'như', 'chơi', 'như', 'không', 'như', 'là', 'như', 'nhau', 'như', 'quả', 'như', 'sau', 'như', 'thường', 'như', 'thế', 'như', 'thế', 'nào', 'như', 'thể', 'như', 'trên', 'như', 'trước', 'như', 'tuồng', 'như', 'vậy', 'như', 'ý', 'nhưng', 'nhưng', 'mà', 'nhược', 'bằng', 'nhất', 'nhất', 'loạt', 'nhất', 'luật', 'nhất', 'là', 'nhất', 'mực', 'nhất', 'nhất', 'nhất', 'quyết', 'nhất', 'sinh', 'nhất', 'thiết', 'nhất', 'thì', 'nhất', 'tâm', 'nhất', 'tề', 'nhất', 'đán', 'nhất', 'định', 'nhận', 'nhận', 'biết', 'nhận', 'họ', 'nhận', 'làm', 'nhận', 'nhau', 'nhận', 'ra', 'nhận', 'thấy', 'nhận', 'việc', 'nhận', 'được', 'nhằm', 'nhằm', 'khi', 'nhằm', 'lúc', 'nhằm', 'vào', 'nhằm', 'để', 'nhỉ', 'nhỏ', 'nhỏ', 'người', 'nhớ', 'nhớ', 'bập', 'bõm', 'nhớ', 'lại', 'nhớ', 'lấy', 'nhớ', 'ra', 'nhờ', 'nhờ', 'chuyển', 'nhờ', 'có', 'nhờ', 'nhờ', 'nhờ', 'đó', 'nhỡ', 'ra', 'những', 'những', 'ai', 'những', 'khi', 'những', 'là', 'những', 'lúc', 'những', 'muốn', 'những', 'như', 'nào', 'nào', 'cũng', 'nào', 'hay', 'nào', 'là', 'nào', 'phải', 'nào', 'đâu', 'nào', 'đó', 'này', 'này', 'nọ', 'nên', 'nên', 'chi', 'nên', 'chăng', 'nên', 'làm', 'nên', 'người', 'nên', 'tránh', 'nó', 'nóc', 'nói', 'nói', 'bông', 'nói', 'chung', 'nói', 'khó', 'nói', 'là', 'nói', 'lên', 'nói', 'lại', 'nói', 'nhỏ', 'nói', 'phải', 'nói', 'qua', 'nói', 'ra', 'nói', 'riêng', 'nói', 'rõ', 'nói', 'thêm', 'nói', 'thật', 'nói', 'toẹt', 'nói', 'trước', 'nói', 'tốt', 'nói', 'với', 'nói', 'xa', 'nói', 'ý', 'nói', 'đến', 'nói', 'đủ', 'năm', 'năm', 'tháng', 'nơi', 'nơi', 'nơi', 'nước', 'nước', 'bài', 'nước', 'cùng', 'nước', 'lên', 'nước', 'nặng', 'nước', 'quả', 'nước', 'xuống', 'nước', 'ăn', 'nước', 'đến', 'nấy', 'nặng', 'nặng', 'căn', 'nặng', 'mình', 'nặng', 'về', 'nếu', 'nếu', 'có', 'nếu', 'cần', 'nếu', 'không', 'nếu', 'mà', 'nếu', 'như', 'nếu', 'thế', 'nếu', 'vậy', 'nếu', 'được', 'nền', 'nọ', 'nớ', 'nức', 'nở', 'nữa', 'nữa', 'khi', 'nữa', 'là', 'nữa', 'rồi', 'oai', 'oái', 'oái', 'pho', 'phè', 'phè', 'phè', 'phía', 'phía', 'bên', 'phía', 'bạn', 'phía', 'dưới', 'phía', 'sau', 'phía', 'trong', 'phía', 'trên', 'phía', 'trước', 'phóc', 'phót', 'phù', 'hợp', 'phăn', 'phắt', 'phương', 'chi', 'phải', 'phải', 'biết', 'phải', 'chi', 'phải', 'chăng', 'phải', 'cách', 'phải', 'cái', 'phải', 'giờ', 'phải', 'khi', 'phải', 'không', 'phải', 'lại', 'phải', 'lời', 'phải', 'người', 'phải', 'như', 'phải', 'rồi', 'phải', 'tay', 'phần', 'phần', 'lớn', 'phần', 'nhiều', 'phần', 'nào', 'phần', 'sau', 'phần', 'việc', 'phắt', 'phỉ', 'phui', 'phỏng', 'phỏng', 'như', 'phỏng', 'nước', 'phỏng', 'theo', 'phỏng', 'tính', 'phốc', 'phụt', 'phứt', 'qua', 'qua', 'chuyện', 'qua', 'khỏi', 'qua', 'lại', 'qua', 'lần', 'qua', 'ngày', 'qua', 'tay', 'qua', 'thì', 'qua', 'đi', 'quan', 'trọng', 'quan', 'trọng', 'vấn', 'đề', 'quan', 'tâm', 'quay', 'quay', 'bước', 'quay', 'lại', 'quay', 'số', 'quay', 'đi', 'quá', 'quá', 'bán', 'quá', 'bộ', 'quá', 'giờ', 'quá', 'lời', 'quá', 'mức', 'quá', 'nhiều', 'quá', 'tay', 'quá', 'thì', 'quá', 'tin', 'quá', 'trình', 'quá', 'tuổi', 'quá', 'đáng', 'quá', 'ư', 'quả', 'quả', 'là', 'quả', 'thật', 'quả', 'thế', 'quả', 'vậy', 'quận', 'ra', 'ra', 'bài', 'ra', 'bộ', 'ra', 'chơi', 'ra', 'gì', 'ra', 'lại', 'ra', 'lời', 'ra', 'ngôi', 'ra', 'người', 'ra', 'sao', 'ra', 'tay', 'ra', 'vào', 'ra', 'ý', 'ra', 'điều', 'ra', 'đây', 'ren', 'rén', 'riu', 'ríu', 'riêng', 'riêng', 'từng', 'riệt', 'rày', 'ráo', 'ráo', 'cả', 'ráo', 'nước', 'ráo', 'trọi', 'rén', 'rén', 'bước', 'rích', 'rón', 'rén', 'rõ', 'rõ', 'là', 'rõ', 'thật', 'rút', 'cục', 'răng', 'răng', 'răng', 'rất', 'rất', 'lâu', 'rằng', 'rằng', 'là', 'rốt', 'cuộc', 'rốt', 'cục', 'rồi', 'rồi', 'nữa', 'rồi', 'ra', 'rồi', 'sao', 'rồi', 'sau', 'rồi', 'tay', 'rồi', 'thì', 'rồi', 'xem', 'rồi', 'đây', 'rứa', 'sa', 'sả', 'sang', 'sang', 'năm', 'sang', 'sáng', 'sang', 'tay', 'sao', 'sao', 'bản', 'sao', 'bằng', 'sao', 'cho', 'sao', 'vậy', 'sao', 'đang', 'sau', 'sau', 'chót', 'sau', 'cuối', 'sau', 'cùng', 'sau', 'hết', 'sau', 'này', 'sau', 'nữa', 'sau', 'sau', 'sau', 'đây', 'sau', 'đó', 'so', 'so', 'với', 'song', 'le', 'suýt', 'suýt', 'nữa', 'sáng', 'sáng', 'ngày', 'sáng', 'rõ', 'sáng', 'thế', 'sáng', 'ý', 'sì', 'sì', 'sì', 'sất', 'sắp', 'sắp', 'đặt', 'sẽ', 'sẽ', 'biết', 'sẽ', 'hay', 'số', 'số', 'cho', 'biết', 'số', 'cụ', 'thể', 'số', 'loại', 'số', 'là', 'số', 'người', 'số', 'phần', 'số', 'thiếu', 'sốt', 'sột', 'sớm', 'sớm', 'ngày', 'sở', 'dĩ', 'sử', 'dụng', 'sự', 'sự', 'thế', 'sự', 'việc', 'tanh', 'tanh', 'tanh', 'tay', 'tay', 'quay', 'tha', 'hồ', 'tha', 'hồ', 'chơi', 'tha', 'hồ', 'ăn', 'than', 'ôi', 'thanh', 'thanh', 'ba', 'thanh', 'chuyển', 'thanh', 'không', 'thanh', 'thanh', 'thanh', 'tính', 'thanh', 'điều', 'kiện', 'thanh', 'điểm', 'thay', 'đổi', 'thay', 'đổi', 'tình', 'trạng', 'theo', 'theo', 'bước', 'theo', 'như', 'theo', 'tin', 'thi', 'thoảng', 'thiếu', 'thiếu', 'gì', 'thiếu', 'điểm', 'thoạt', 'thoạt', 'nghe', 'thoạt', 'nhiên', 'thoắt', 'thuần', 'thuần', 'ái', 'thuộc', 'thuộc', 'bài', 'thuộc', 'cách', 'thuộc', 'lại', 'thuộc', 'từ', 'thà', 'thà', 'là', 'thà', 'rằng', 'thành', 'ra', 'thành', 'thử', 'thái', 'quá', 'tháng', 'tháng', 'ngày', 'tháng', 'năm', 'tháng', 'tháng', 'thêm', 'thêm', 'chuyện', 'thêm', 'giờ', 'thêm', 'vào', 'thì', 'thì', 'giờ', 'thì', 'là', 'thì', 'phải', 'thì', 'ra', 'thì', 'thôi', 'thình', 'lình', 'thích', 'thích', 'cứ', 'thích', 'thuộc', 'thích', 'tự', 'thích', 'ý', 'thím', 'thôi', 'thôi', 'việc', 'thúng', 'thắng', 'thương', 'ôi', 'thường', 'thường', 'bị', 'thường', 'hay', 'thường', 'khi', 'thường', 'số', 'thường', 'sự', 'thường', 'thôi', 'thường', 'thường', 'thường', 'tính', 'thường', 'tại', 'thường', 'xuất', 'hiện', 'thường', 'đến', 'thảo', 'hèn', 'thảo', 'nào', 'thấp', 'thấp', 'cơ', 'thấp', 'thỏm', 'thấp', 'xuống', 'thấy', 'thấy', 'tháng', 'thẩy', 'thậm', 'thậm', 'chí', 'thậm', 'cấp', 'thậm', 'từ', 'thật', 'thật', 'chắc', 'thật', 'là', 'thật', 'lực', 'thật', 'quả', 'thật', 'ra', 'thật', 'sự', 'thật', 'thà', 'thật', 'tốt', 'thật', 'vậy', 'thế', 'thế', 'chuẩn', 'bị', 'thế', 'là', 'thế', 'lại', 'thế', 'mà', 'thế', 'nào', 'thế', 'nên', 'thế', 'ra', 'thế', 'sự', 'thế', 'thì', 'thế', 'thôi', 'thế', 'thường', 'thế', 'thế', 'thế', 'à', 'thế', 'đó', 'thếch', 'thỉnh', 'thoảng', 'thỏm', 'thốc', 'thốc', 'tháo', 'thốt', 'thốt', 'nhiên', 'thốt', 'nói', 'thốt', 'thôi', 'thộc', 'thời', 'gian', 'thời', 'gian', 'sử', 'dụng', 'thời', 'gian', 'tính', 'thời', 'điểm', 'thục', 'mạng', 'thứ', 'thứ', 'bản', 'thứ', 'đến', 'thửa', 'thực', 'hiện', 'thực', 'hiện', 'đúng', 'thực', 'ra', 'thực', 'sự', 'thực', 'tế', 'thực', 'vậy', 'tin', 'tin', 'thêm', 'tin', 'vào', 'tiếp', 'theo', 'tiếp', 'tục', 'tiếp', 'đó', 'tiện', 'thể', 'toà', 'toé', 'khói', 'toẹt', 'trong', 'trong', 'khi', 'trong', 'lúc', 'trong', 'mình', 'trong', 'ngoài', 'trong', 'này', 'trong', 'số', 'trong', 'vùng', 'trong', 'đó', 'trong', 'ấy', 'tránh', 'tránh', 'khỏi', 'tránh', 'ra', 'tránh', 'tình', 'trạng', 'tránh', 'xa', 'trên', 'trên', 'bộ', 'trên', 'dưới', 'trước', 'trước', 'hết', 'trước', 'khi', 'trước', 'kia', 'trước', 'nay', 'trước', 'ngày', 'trước', 'nhất', 'trước', 'sau', 'trước', 'tiên', 'trước', 'tuổi', 'trước', 'đây', 'trước', 'đó', 'trả', 'trả', 'của', 'trả', 'lại', 'trả', 'ngay', 'trả', 'trước', 'trếu', 'tráo', 'trển', 'trệt', 'trệu', 'trạo', 'trỏng', 'trời', 'đất', 'ơi', 'trở', 'thành', 'trừ', 'phi', 'trực', 'tiếp', 'trực', 'tiếp', 'làm', 'tuy', 'tuy', 'có', 'tuy', 'là', 'tuy', 'nhiên', 'tuy', 'rằng', 'tuy', 'thế', 'tuy', 'vậy', 'tuy', 'đã', 'tuyệt', 'nhiên', 'tuần', 'tự', 'tuốt', 'luốt', 'tuốt', 'tuồn', 'tuột', 'tuốt', 'tuột', 'tuổi', 'tuổi', 'cả', 'tuổi', 'tôi', 'tà', 'tà', 'tên', 'tên', 'chính', 'tên', 'cái', 'tên', 'họ', 'tên', 'tự', 'tênh', 'tênh', 'tênh', 'tìm', 'tìm', 'bạn', 'tìm', 'cách', 'tìm', 'hiểu', 'tìm', 'ra', 'tìm', 'việc', 'tình', 'trạng', 'tính', 'tính', 'cách', 'tính', 'căn', 'tính', 'người', 'tính', 'phỏng', 'tính', 'từ', 'tít', 'mù', 'tò', 'te', 'tôi', 'tôi', 'con', 'tông', 'tốc', 'tù', 'tì', 'tăm', 'tắp', 'tăng', 'tăng', 'chúng', 'tăng', 'cấp', 'tăng', 'giảm', 'tăng', 'thêm', 'tăng', 'thế', 'tại', 'tại', 'lòng', 'tại', 'nơi', 'tại', 'sao', 'tại', 'tôi', 'tại', 'vì', 'tại', 'đâu', 'tại', 'đây', 'tại', 'đó', 'tạo', 'tạo', 'cơ', 'hội', 'tạo', 'nên', 'tạo', 'ra', 'tạo', 'ý', 'tạo', 'điều', 'kiện', 'tấm', 'tấm', 'bản', 'tấm', 'các', 'tấn', 'tấn', 'tới', 'tất', 'cả', 'tất', 'cả', 'bao', 'nhiêu', 'tất', 'thảy', 'tất', 'tần', 'tật', 'tất', 'tật', 'tập', 'trung', 'tắp', 'tắp', 'lự', 'tắp', 'tắp', 'tọt', 'tỏ', 'ra', 'tỏ', 'vẻ', 'tốc', 'tả', 'tối', 'ư', 'tốt', 'tốt', 'bạn', 'tốt', 'bộ', 'tốt', 'hơn', 'tốt', 'mối', 'tốt', 'ngày', 'tột', 'tột', 'cùng', 'tớ', 'tới', 'tới', 'gần', 'tới', 'mức', 'tới', 'nơi', 'tới', 'thì', 'tức', 'thì', 'tức', 'tốc', 'từ', 'từ', 'căn', 'từ', 'giờ', 'từ', 'khi', 'từ', 'loại', 'từ', 'nay', 'từ', 'thế', 'từ', 'tính', 'từ', 'tại', 'từ', 'từ', 'từ', 'ái', 'từ', 'điều', 'từ', 'đó', 'từ', 'ấy', 'từng', 'từng', 'cái', 'từng', 'giờ', 'từng', 'nhà', 'từng', 'phần', 'từng', 'thời', 'gian', 'từng', 'đơn', 'vị', 'từng', 'ấy', 'tự', 'tự', 'cao', 'tự', 'khi', 'tự', 'lượng', 'tự', 'tính', 'tự', 'tạo', 'tự', 'vì', 'tự', 'ý', 'tự', 'ăn', 'tựu', 'trung', 'veo', 'veo', 'veo', 'việc', 'việc', 'gì', 'vung', 'thiên', 'địa', 'vung', 'tàn', 'tán', 'vung', 'tán', 'tàn', 'và', 'vài', 'vài', 'ba', 'vài', 'người', 'vài', 'nhà', 'vài', 'nơi', 'vài', 'tên', 'vài', 'điều', 'vào', 'vào', 'gặp', 'vào', 'khoảng', 'vào', 'lúc', 'vào', 'vùng', 'vào', 'đến', 'vâng', 'vâng', 'chịu', 'vâng', 'dạ', 'vâng', 'vâng', 'vâng', 'ý', 'vèo', 'vèo', 'vèo', 'vì', 'vì', 'chưng', 'vì', 'rằng', 'vì', 'sao', 'vì', 'thế', 'vì', 'vậy', 'ví', 'bằng', 'ví', 'dù', 'ví', 'phỏng', 'ví', 'thử', 'vô', 'hình', 'trung', 'vô', 'kể', 'vô', 'luận', 'vô', 'vàn', 'vùng', 'vùng', 'lên', 'vùng', 'nước', 'văng', 'tê', 'vượt', 'vượt', 'khỏi', 'vượt', 'quá', 'vạn', 'nhất', 'vả', 'chăng', 'vả', 'lại', 'vấn', 'đề', 'vấn', 'đề', 'quan', 'trọng', 'vẫn', 'vẫn', 'thế', 'vậy', 'vậy', 'là', 'vậy', 'mà', 'vậy', 'nên', 'vậy', 'ra', 'vậy', 'thì', 'vậy', 'ư', 'về', 'về', 'không', 'về', 'nước', 'về', 'phần', 'về', 'sau', 'về', 'tay', 'vị', 'trí', 'vị', 'tất', 'vốn', 'dĩ', 'với', 'với', 'lại', 'với', 'nhau', 'vở', 'vụt', 'vừa', 'vừa', 'khi', 'vừa', 'lúc', 'vừa', 'mới', 'vừa', 'qua', 'vừa', 'rồi', 'vừa', 'vừa', 'xa', 'xa', 'cách', 'xa', 'gần', 'xa', 'nhà', 'xa', 'tanh', 'xa', 'tắp', 'xa', 'xa', 'xa', 'xả', 'xem', 'xem', 'lại', 'xem', 'ra', 'xem', 'số', 'xin', 'xin', 'gặp', 'xin', 'vâng', 'xiết', 'bao', 'xon', 'xón', 'xoành', 'xoạch', 'xoét', 'xoẳn', 'xoẹt', 'xuất', 'hiện', 'xuất', 'kì', 'bất', 'ý', 'xuất', 'kỳ', 'bất', 'ý', 'xuể', 'xuống', 'xăm', 'xúi', 'xăm', 'xăm', 'xăm', 'xắm', 'xảy', 'ra', 'xềnh', 'xệch', 'xệp', 'xử', 'lý', 'yêu', 'cầu', 'à', 'à', 'này', 'à', 'ơi', 'ào', 'ào', 'vào', 'ào', 'ào', 'á', 'á', 'à', 'ái', 'ái', 'chà', 'ái', 'dà', 'áng', 'áng', 'như', 'âu', 'là', 'ít', 'ít', 'biết', 'ít', 'có', 'ít', 'hơn', 'ít', 'khi', 'ít', 'lâu', 'ít', 'nhiều', 'ít', 'nhất', 'ít', 'nữa', 'ít', 'quá', 'ít', 'ra', 'ít', 'thôi', 'ít', 'thấy', 'ô', 'hay', 'ô', 'hô', 'ô', 'kê', 'ô', 'kìa', 'ôi', 'chao', 'ôi', 'thôi', 'ông', 'ông', 'nhỏ', 'ông', 'tạo', 'ông', 'từ', 'ông', 'ấy', 'ông', 'ổng', 'úi', 'úi', 'chà', 'úi', 'dào', 'ý', 'ý', 'chừng', 'ý', 'da', 'ý', 'hoặc', 'ăn', 'ăn', 'chung', 'ăn', 'chắc', 'ăn', 'chịu', 'ăn', 'cuộc', 'ăn', 'hết', 'ăn', 'hỏi', 'ăn', 'làm', 'ăn', 'người', 'ăn', 'ngồi', 'ăn', 'quá', 'ăn', 'riêng', 'ăn', 'sáng', 'ăn', 'tay', 'ăn', 'trên', 'ăn', 'về', 'đang', 'đang', 'tay', 'đang', 'thì', 'điều', 'điều', 'gì', 'điều', 'kiện', 'điểm', 'điểm', 'chính', 'điểm', 'gặp', 'điểm', 'đầu', 'tiên', 'đành', 'đạch', 'đáng', 'đáng', 'kể', 'đáng', 'lí', 'đáng', 'lý', 'đáng', 'lẽ', 'đáng', 'số', 'đánh', 'giá', 'đánh', 'đùng', 'đáo', 'để', 'đâu', 'đâu', 'có', 'đâu', 'cũng', 'đâu', 'như', 'đâu', 'nào', 'đâu', 'phải', 'đâu', 'đâu', 'đâu', 'đây', 'đâu', 'đó', 'đây', 'đây', 'này', 'đây', 'rồi', 'đây', 'đó', 'đã', 'đã', 'hay', 'đã', 'không', 'đã', 'là', 'đã', 'lâu', 'đã', 'thế', 'đã', 'vậy', 'đã', 'đủ', 'đó', 'đó', 'đây', 'đúng', 'đúng', 'ngày', 'đúng', 'ra', 'đúng', 'tuổi', 'đúng', 'với', 'đơn', 'vị', 'đưa', 'đưa', 'cho', 'đưa', 'chuyện', 'đưa', 'em', 'đưa', 'ra', 'đưa', 'tay', 'đưa', 'tin', 'đưa', 'tới', 'đưa', 'vào', 'đưa', 'về', 'đưa', 'xuống', 'đưa', 'đến', 'được', 'được', 'cái', 'được', 'lời', 'được', 'nước', 'được', 'tin', 'đại', 'loại', 'đại', 'nhân', 'đại', 'phàm', 'đại', 'để', 'đạt', 'đảm', 'bảo', 'đầu', 'tiên', 'đầy', 'đầy', 'năm', 'đầy', 'phè', 'đầy', 'tuổi', 'đặc', 'biệt', 'đặt', 'đặt', 'làm', 'đặt', 'mình', 'đặt', 'mức', 'đặt', 'ra', 'đặt', 'trước', 'đặt', 'để', 'đến', 'đến', 'bao', 'giờ', 'đến', 'cùng', 'đến', 'cùng', 'cực', 'đến', 'cả', 'đến', 'giờ', 'đến', 'gần', 'đến', 'hay', 'đến', 'khi', 'đến', 'lúc', 'đến', 'lời', 'đến', 'nay', 'đến', 'ngày', 'đến', 'nơi', 'đến', 'nỗi', 'đến', 'thì', 'đến', 'thế', 'đến', 'tuổi', 'đến', 'xem', 'đến', 'điều', 'đến', 'đâu', 'đều', 'đều', 'bước', 'đều', 'nhau', 'đều', 'đều', 'để', 'để', 'cho', 'để', 'giống', 'để', 'không', 'để', 'lòng', 'để', 'lại', 'để', 'mà', 'để', 'phần', 'để', 'được', 'để', 'đến', 'nỗi', 'đối', 'với', 'đồng', 'thời', 'đủ', 'đủ', 'dùng', 'đủ', 'nơi', 'đủ', 'số', 'đủ', 'điều', 'đủ', 'điểm', 'ơ', 'ơ', 'hay', 'ơ', 'kìa', 'ơi', 'ơi', 'là', 'ư', 'ạ', 'ạ', 'ơi', 'ấy', 'ấy', 'là', 'ầu', 'ơ', 'ắt', 'ắt', 'hẳn', 'ắt', 'là', 'ắt', 'phải', 'ắt', 'thật', 'ối', 'dào', 'ối', 'giời', 'ối', 'giời', 'ơi', 'ồ', 'ồ', 'ồ', 'ổng', 'ớ', 'ớ', 'này', 'ờ', 'ờ', 'ờ', 'ở', 'ở', 'lại', 'ở', 'như', 'ở', 'nhờ', 'ở', 'năm', 'ở', 'trên', 'ở', 'vào', 'ở', 'đây', 'ở', 'đó', 'ở', 'được', 'ủa', 'ứ', 'hự', 'ứ', 'ừ', 'ừ', 'ừ', 'nhé', 'ừ', 'thì', 'ừ', 'ào', 'ừ', 'ừ', 'ử', '!', '\"', '#', '$', '%', '&', \"'\", '(', ')', '*', '+', ',', '-', '.', '/', ':', ';', '<', '=', '>', '?', '@', '[', '\\\\', ']', '^', '_', '`', '{', '|', '}', '~']\n"
     ]
    }
   ],
   "source": [
    "punc = list(punctuation)\n",
    "stop_word = stop_word + punc\n",
    "print(stop_word)"
   ]
  },
  {
   "cell_type": "markdown",
   "metadata": {},
   "source": [
    "# Chuẩn bị"
   ]
  },
  {
   "cell_type": "markdown",
   "metadata": {},
   "source": [
    "Ta sử dụng hàm get_label để xử lý xâu tên file json về nhãn. Dữ liệu có tổng cộng 45 nhãn được liệt kê trong mảng label. Các dữ liệu phân ra từng nhãn không đều nhau sẽ khiến cho mô hình phân loại bị sai lệch kết quả. Ta sẽ bỏ bớt các văn bản và nhãn mà trong đó số dữ liệu được phân loại vào đó nhỏ hơn 1000 và chỉ lấy những văn bản có nhãn xuất hiện nhiều nhất. Cụ thể là 32 nhãn đã được lấy ra và cho vào mảng m."
   ]
  },
  {
   "cell_type": "code",
   "execution_count": 4,
   "metadata": {},
   "outputs": [
    {
     "name": "stdout",
     "output_type": "stream",
     "text": [
      "['thanh nien', 'thanh tra', 'kiem toan', 'bien dao', 'quoc phong', 'cong nghiep', 'chinh sach', 'quoc hoi', 'buu chinh vien thong', 'kinh te', 'tai chinh', 'thoi trang', 'van hoa', 'xay dung', 'du lich', 'the thao', 'phap luat', 'hai quan', 'xa hoi', 'giao duc', 'giai tri', 'suc khoe', 'kinh doanh', 'bat dong san', 'giao thong van tai', 'y te', 'chinh tri', 'tai nguyen moi truong', 'phu nu', 'khoa hoc cong nghe', 'thuong mai', 'van nghe']\n"
     ]
    }
   ],
   "source": [
    "label=['an ninh', 'an ninh trat tu', 'bat dong san', 'bien dao',\n",
    "       'buu chinh vien thong', 'chinh sach', 'chinh tri', 'cong nghiep',\n",
    "       'dan toc', 'dau thau', 'do thi', 'doi ngoai', 'du lich',\n",
    "       'giai tri', 'giao duc', 'giao thong van tai', 'hai quan',\n",
    "       'khoa hoc cong nghe', 'kiem toan', 'kinh doanh', 'kinh te',\n",
    "       'lao dong', 'lao dong thuong binh va xa hoi', 'nang luong',\n",
    "       'nong nghiep', 'phap luat', 'phu nu', 'quoc hoi', 'quoc phong',\n",
    "       'so huu tri tue', 'suc khoe', 'tai chinh', 'tai nguyen moi truong',\n",
    "       'thanh nien', 'thanh tra', 'the thao', 'thoi trang',\n",
    "       'thong tin va truyen thong', 'thuong mai', 'tre em', 'van hoa',\n",
    "       'van nghe', 'xa hoi', 'xay dung', 'y te']\n",
    "tmp=[]\n",
    "for i in ([33, 34, 18, 3, 28, 7, 5, 27, 4, 20, 31, 36, 40, 43, 12, 35, 25, 16, 42, 14, 13, 30, 19, 2, 15, 44, 6, 32, 26, 17, 38, 41]):\n",
    "    tmp.append(label[i])\n",
    "print(tmp)\n",
    "\n",
    "\n",
    "m = ['thanh nien', 'thanh tra', 'kiem toan', 'bien dao',\n",
    "                'quoc phong', 'cong nghiep', 'chinh sach', 'quoc hoi', \n",
    "                'buu chinh vien thong', 'kinh te', 'tai chinh', 'thoi trang', \n",
    "                'van hoa', 'xay dung', 'du lich', 'the thao', 'phap luat', \n",
    "                'hai quan', 'xa hoi', 'giao duc', 'giai tri', 'suc khoe', \n",
    "                'kinh doanh', 'bat dong san', 'giao thong van tai', 'y te', \n",
    "                'chinh tri', 'tai nguyen moi truong', 'phu nu', \n",
    "                'khoa hoc cong nghe', 'thuong mai', 'van nghe']\n",
    "\n",
    "def get_label(s):   # chuyển tên file thành label\n",
    "    s=s.replace('.json','')\n",
    "    for i in range(10):\n",
    "        s=s.replace(str(i),'')    \n",
    "    s=s.split('_')\n",
    "    s = ' '.join(s)\n",
    "    s=s.replace('  ','')\n",
    "    if s[len(s)-1]==' ':\n",
    "        s=s[:len(s)-1]\n",
    "    return s"
   ]
  },
  {
   "cell_type": "markdown",
   "metadata": {},
   "source": [
    "# Nhập dữ liệu"
   ]
  },
  {
   "cell_type": "markdown",
   "metadata": {},
   "source": [
    "Trong quá trình nhập các bộ X,y (văn bản và nhãn tương ứng) ta sẽ loại ra các văn bản rỗng (nhiễu) và chỉ lấy các văn bản có nhãn xuất hiện nhiều nằm trong mảng m. Đồng thời, ta sẽ lọc những stop-words ra khỏi văn bản."
   ]
  },
  {
   "cell_type": "code",
   "execution_count": 5,
   "metadata": {},
   "outputs": [
    {
     "name": "stdout",
     "output_type": "stream",
     "text": [
      "an_ninh_05.json\n",
      "an_ninh_06.json\n",
      "an_ninh_07.json\n",
      "an_ninh_trat_tu.json\n",
      "bat_dong_san.json\n",
      "bien_dao.json\n",
      "bien_dao_08_2.json\n",
      "buu_chinh_vien_thong.json\n",
      "chinh_sach.json\n",
      "chinh_sach_08_2.json\n",
      "chinh_tri.json\n",
      "cong_nghiep_04.json\n",
      "cong_nghiep_05.json\n",
      "cong_nghiep_06.json\n",
      "cong_nghiep_07.json\n",
      "cong_nghiep_08_2.json\n",
      "dan_toc_04.json\n",
      "dan_toc_05.json\n",
      "dan_toc_06.json\n",
      "dan_toc_07.json\n",
      "dau_thau_03.json\n",
      "dau_thau_04.json\n",
      "dau_thau_05.json\n",
      "dau_thau_06.json\n",
      "doi_ngoai_04.json\n",
      "doi_ngoai_05.json\n",
      "doi_ngoai_06.json\n",
      "doi_ngoai_07.json\n",
      "do_thi.json\n",
      "du_lich.json\n",
      "giai_tri.json\n",
      "giao_duc.json\n",
      "giao_thong_van_tai_02.json\n",
      "giao_thong_van_tai_03.json\n",
      "giao_thong_van_tai_04.json\n",
      "giao_thong_van_tai_05.json\n",
      "giao_thong_van_tai_06.json\n",
      "giao_thong_van_tai_07.json\n",
      "giao_thong_van_tai_08.json\n",
      "hai_quan.json\n",
      "khoa_hoc_cong_nghe_04.json\n",
      "khoa_hoc_cong_nghe_05.json\n",
      "khoa_hoc_cong_nghe_06.json\n",
      "khoa_hoc_cong_nghe_07.json\n",
      "khoa_hoc_cong_nghe_2_02.json\n",
      "khoa_hoc_cong_nghe_2_03.json\n",
      "khoa_hoc_cong_nghe_2_04.json\n",
      "khoa_hoc_cong_nghe_2_05.json\n",
      "khoa_hoc_cong_nghe_2_06.json\n",
      "khoa_hoc_cong_nghe_2_07.json\n",
      "khoa_hoc_cong_nghe_2_08.json\n",
      "kiem_toan_02.json\n",
      "kiem_toan_03.json\n",
      "kiem_toan_04.json\n",
      "kiem_toan_05.json\n",
      "kiem_toan_06.json\n",
      "kiem_toan_06_2.json\n",
      "kiem_toan_07.json\n",
      "kiem_toan_08.json\n",
      "kinh_doanh.json\n",
      "kinh_te.json\n",
      "lao_dong_02.json\n",
      "lao_dong_03.json\n",
      "lao_dong_04.json\n",
      "lao_dong_05.json\n",
      "lao_dong_06.json\n",
      "lao_dong_07.json\n",
      "lao_dong_thuong_binh_va_xa_hoi_02.json\n",
      "lao_dong_thuong_binh_va_xa_hoi_02_02.json\n",
      "lao_dong_thuong_binh_va_xa_hoi_02_03.json\n",
      "lao_dong_thuong_binh_va_xa_hoi_02_05.json\n",
      "lao_dong_thuong_binh_va_xa_hoi_02_06.json\n",
      "lao_dong_thuong_binh_va_xa_hoi_02_07.json\n",
      "lao_dong_thuong_binh_va_xa_hoi_03.json\n",
      "lao_dong_thuong_binh_va_xa_hoi_04.json\n",
      "lao_dong_thuong_binh_va_xa_hoi_05.json\n",
      "lao_dong_thuong_binh_va_xa_hoi_06.json\n",
      "lao_dong_thuong_binh_va_xa_hoi_07.json\n",
      "nang_luong_01_02.json\n",
      "nang_luong_01_03.json\n",
      "nang_luong_01_04.json\n",
      "nang_luong_01_05.json\n",
      "nang_luong_01_06.json\n",
      "nang_luong_01_07.json\n",
      "nang_luong_02_02.json\n",
      "nang_luong_02_03.json\n",
      "nang_luong_02_04.json\n",
      "nang_luong_02_05.json\n",
      "nang_luong_02_06.json\n",
      "nang_luong_02_07.json\n",
      "nong_nghiep_06.json\n",
      "nong_nghiep_07.json\n",
      "phap_luat.json\n",
      "phu_nu.json\n",
      "quoc_hoi_02.json\n",
      "quoc_hoi_03.json\n",
      "quoc_hoi_04.json\n",
      "quoc_hoi_05.json\n",
      "quoc_hoi_06.json\n",
      "quoc_hoi_08_2.json\n",
      "quoc_phong.json\n",
      "quoc_phong_08_2.json\n",
      "so_huu_tri_tue_06.json\n",
      "so_huu_tri_tue_07.json\n",
      "suc_khoe.json\n",
      "tai_chinh.json\n",
      "tai_nguyen_moi_truong_02.json\n",
      "tai_nguyen_moi_truong_03.json\n",
      "tai_nguyen_moi_truong_04.json\n",
      "tai_nguyen_moi_truong_05.json\n",
      "tai_nguyen_moi_truong_06.json\n",
      "tai_nguyen_moi_truong_07.json\n",
      "thanh_nien_04.json\n",
      "thanh_nien_05.json\n",
      "thanh_nien_06.json\n",
      "thanh_nien_07.json\n",
      "thanh_tra_02.json\n",
      "thanh_tra_03.json\n",
      "thanh_tra_04.json\n",
      "thanh_tra_05.json\n",
      "thanh_tra_06.json\n",
      "thanh_tra_07.json\n",
      "thanh_tra_08.json\n",
      "the_thao.json\n",
      "thoi_trang.json\n",
      "thong_tin_va_truyen_thong_02.json\n",
      "thong_tin_va_truyen_thong_03.json\n",
      "thong_tin_va_truyen_thong_04.json\n",
      "thong_tin_va_truyen_thong_05.json\n",
      "thong_tin_va_truyen_thong_06.json\n",
      "thong_tin_va_truyen_thong_07.json\n",
      "thuong_mai.json\n",
      "tre_em_06.json\n",
      "tre_em_07.json\n",
      "van_hoa.json\n",
      "van_nghe_02.json\n",
      "van_nghe_03.json\n",
      "van_nghe_04.json\n",
      "van_nghe_05.json\n",
      "van_nghe_06.json\n",
      "van_nghe_07.json\n",
      "xay_dung.json\n",
      "xa_hoi.json\n",
      "y_te.json\n"
     ]
    }
   ],
   "source": [
    "X=[]\n",
    "y=[]\n",
    "\n",
    "folder_path =\"C:/Users/ASUS ZenBook/OneDrive/Desktop/json\"\n",
    "def get_label1(s):   # chuyển tên file thành label\n",
    "    s=s.replace('.json','')\n",
    "    \n",
    "    for i in range(10):\n",
    "        s=s.replace(str(i),'')\n",
    "    \n",
    "    s=s.split('_')\n",
    "    s = ' '.join(s)\n",
    "    s=s.replace('  ','')\n",
    "    if s[len(s)-1]==' ':\n",
    "        s=s[:len(s)-1]\n",
    "    return s\n",
    "\n",
    "dirs = os.listdir(folder_path)\n",
    "for path in (dirs):\n",
    "    with open (os.path.join(folder_path, path), encoding = \"utf8\",) as f:\n",
    "        data = json.load(f)\n",
    "        print(path)\n",
    "        for i in data[\"response\"][\"docs\"]:\n",
    "            k=i[\"message\"]\n",
    "            if k!= '':\n",
    "                k=get_label1(path)\n",
    "                if k in m:\n",
    "                    k=i[\"message\"]\n",
    "                    k=gensim.utils.simple_preprocess(k)\n",
    "                    tmp=[]\n",
    "                  #### stop word  \n",
    "                    for i in k:\n",
    "                        if i not in stop_word:\n",
    "                            tmp.append(i)\n",
    "                    k=tmp\n",
    "                  #####   \n",
    "                    k=' '.join(k)\n",
    "                    k=ViTokenizer.tokenize(k)\n",
    "                    X.append(k)\n",
    "                    #k=get_label(i[\"categories\"])\n",
    "                    k=get_label1(path)\n",
    "                    y.append(k)"
   ]
  },
  {
   "cell_type": "markdown",
   "metadata": {},
   "source": [
    "# Xử lý"
   ]
  },
  {
   "cell_type": "code",
   "execution_count": 6,
   "metadata": {},
   "outputs": [
    {
     "name": "stdout",
     "output_type": "stream",
     "text": [
      "  (0, 130571)\t0.01212858640706749\n",
      "  (0, 129966)\t0.06352963634452284\n",
      "  (0, 129657)\t0.03245582813781044\n",
      "  (0, 129111)\t0.030591857818691906\n",
      "  (0, 129094)\t0.03553570156719029\n",
      "  (0, 128856)\t0.1215599394446097\n",
      "  (0, 128718)\t0.01721770284908251\n",
      "  (0, 128542)\t0.09341631800282427\n",
      "  (0, 128173)\t0.03562923271933869\n",
      "  (0, 128058)\t0.3268162551321311\n",
      "  (0, 127669)\t0.02124948492317796\n",
      "  (0, 127217)\t0.0250656501229759\n",
      "  (0, 125833)\t0.039604674558556104\n",
      "  (0, 124343)\t0.024692752339249804\n",
      "  (0, 121654)\t0.06804781753765245\n",
      "  (0, 120978)\t0.052501401494575516\n",
      "  (0, 120073)\t0.03250236008624541\n",
      "  (0, 118838)\t0.030780296611817772\n",
      "  (0, 118336)\t0.03287637188486282\n",
      "  (0, 118142)\t0.023579966457019125\n",
      "  (0, 118092)\t0.014719701500193458\n",
      "  (0, 117967)\t0.0446419563582457\n",
      "  (0, 116874)\t0.025289811835800927\n",
      "  (0, 115326)\t0.029757159924491842\n",
      "  (0, 112423)\t0.0543428099068687\n",
      "  :\t:\n",
      "  (61884, 36218)\t0.07220919494602022\n",
      "  (61884, 34751)\t0.05946484610407415\n",
      "  (61884, 33744)\t0.04494814059219356\n",
      "  (61884, 31549)\t0.04374752203447931\n",
      "  (61884, 30437)\t0.017118091221831777\n",
      "  (61884, 25750)\t0.029988275185554334\n",
      "  (61884, 25478)\t0.03505503377619381\n",
      "  (61884, 24930)\t0.055053563734100815\n",
      "  (61884, 24310)\t0.04260380649010853\n",
      "  (61884, 23762)\t0.034233097061210915\n",
      "  (61884, 23731)\t0.042746288875201995\n",
      "  (61884, 23090)\t0.015271709373499687\n",
      "  (61884, 19577)\t0.05129308672947957\n",
      "  (61884, 19302)\t0.025129829370655624\n",
      "  (61884, 18598)\t0.030737298961966277\n",
      "  (61884, 14388)\t0.015273928991494946\n",
      "  (61884, 14170)\t0.034025306558542696\n",
      "  (61884, 10880)\t0.032061051055789144\n",
      "  (61884, 10617)\t0.056075694637561097\n",
      "  (61884, 10615)\t0.6720899786219036\n",
      "  (61884, 10275)\t0.01948644462335034\n",
      "  (61884, 7717)\t0.031600830208141195\n",
      "  (61884, 7555)\t0.045895487862486754\n",
      "  (61884, 5423)\t0.027784033961553233\n",
      "  (61884, 1730)\t0.012084315182877135\n"
     ]
    }
   ],
   "source": [
    "from sklearn.feature_extraction.text import TfidfVectorizer, CountVectorizer\n",
    "tfidf_vect = TfidfVectorizer(analyzer='word')\n",
    "tfidf_vect.fit(X)\n",
    "X_tfidf =  tfidf_vect.transform(X)\n",
    "print(X_tfidf)"
   ]
  },
  {
   "cell_type": "code",
   "execution_count": 7,
   "metadata": {},
   "outputs": [
    {
     "data": {
      "text/plain": [
       "array(['bat dong san', 'bien dao', 'buu chinh vien thong', 'chinh sach',\n",
       "       'chinh tri', 'cong nghiep', 'du lich', 'giai tri', 'giao duc',\n",
       "       'giao thong van tai', 'hai quan', 'khoa hoc cong nghe',\n",
       "       'kiem toan', 'kinh doanh', 'kinh te', 'phap luat', 'phu nu',\n",
       "       'quoc hoi', 'quoc phong', 'suc khoe', 'tai chinh',\n",
       "       'tai nguyen moi truong', 'thanh nien', 'thanh tra', 'the thao',\n",
       "       'thoi trang', 'thuong mai', 'van hoa', 'van nghe', 'xa hoi',\n",
       "       'xay dung', 'y te'], dtype='<U21')"
      ]
     },
     "execution_count": 7,
     "metadata": {},
     "output_type": "execute_result"
    }
   ],
   "source": [
    "import sklearn\n",
    "encoder = sklearn.preprocessing.LabelEncoder()\n",
    "y = encoder.fit_transform(y)\n",
    "\n",
    "encoder.classes_"
   ]
  },
  {
   "cell_type": "code",
   "execution_count": 8,
   "metadata": {},
   "outputs": [
    {
     "name": "stderr",
     "output_type": "stream",
     "text": [
      "Using TensorFlow backend.\n"
     ]
    }
   ],
   "source": [
    "from imblearn.over_sampling import SMOTE\n",
    "oversample=SMOTE()\n",
    "X_tfidf, y=oversample.fit_resample(X_tfidf, y)"
   ]
  },
  {
   "cell_type": "code",
   "execution_count": 11,
   "metadata": {},
   "outputs": [
    {
     "name": "stdout",
     "output_type": "stream",
     "text": [
      "Counter({0: 2944, 1: 2944, 2: 2944, 3: 2944, 4: 2944, 5: 2944, 6: 2944, 7: 2944, 8: 2944, 9: 2944, 10: 2944, 11: 2944, 12: 2944, 13: 2944, 14: 2944, 15: 2944, 16: 2944, 17: 2944, 18: 2944, 19: 2944, 20: 2944, 21: 2944, 22: 2944, 23: 2944, 24: 2944, 25: 2944, 26: 2944, 27: 2944, 28: 2944, 30: 2944, 29: 2944, 31: 2944})\n"
     ]
    }
   ],
   "source": [
    "import collections\n",
    "\n",
    "print(collections.Counter(y))"
   ]
  },
  {
   "cell_type": "code",
   "execution_count": 16,
   "metadata": {},
   "outputs": [
    {
     "data": {
      "text/plain": [
       "array([ 0,  1,  2,  3,  4,  5,  6,  7,  8,  9, 10, 11, 12, 13, 14, 15, 16,\n",
       "       17, 18, 19, 20, 21, 22, 23, 24, 25, 26, 27, 28, 29, 30, 31],\n",
       "      dtype=int64)"
      ]
     },
     "execution_count": 16,
     "metadata": {},
     "output_type": "execute_result"
    }
   ],
   "source": [
    "import sklearn\n",
    "encoder = sklearn.preprocessing.LabelEncoder()\n",
    "y = encoder.fit_transform(y)\n",
    "\n",
    "encoder.classes_"
   ]
  },
  {
   "cell_type": "code",
   "execution_count": 25,
   "metadata": {},
   "outputs": [
    {
     "name": "stdout",
     "output_type": "stream",
     "text": [
      "  (0, 128744)\t0.04167989122273196\n",
      "  (0, 127689)\t0.09132781194451856\n",
      "  (0, 126935)\t0.0336562011082162\n",
      "  (0, 126930)\t0.025972913746350336\n",
      "  (0, 126858)\t0.040892694086792795\n",
      "  (0, 126857)\t0.031607778130990985\n",
      "  (0, 125752)\t0.08782519844745275\n",
      "  (0, 125740)\t0.045011102727779286\n",
      "  (0, 125650)\t0.03522200551576742\n",
      "  (0, 124254)\t0.0427402375893184\n",
      "  (0, 124252)\t0.032993680119341486\n",
      "  (0, 124247)\t0.04013161809802881\n",
      "  (0, 124246)\t0.040455960300958986\n",
      "  (0, 124245)\t0.06606532509267492\n",
      "  (0, 124244)\t0.043750468998864304\n",
      "  (0, 124047)\t0.03621349681937087\n",
      "  (0, 124024)\t0.04189722926246487\n",
      "  (0, 124023)\t0.04127113927753113\n",
      "  (0, 123579)\t0.0410784117583869\n",
      "  (0, 123271)\t0.04212422988433965\n",
      "  (0, 123191)\t0.03388219697393655\n",
      "  (0, 123188)\t0.2470431982316362\n",
      "  (0, 123082)\t0.04408004613114927\n",
      "  (0, 122473)\t0.04224162983952237\n",
      "  (0, 122459)\t0.021937599768060284\n",
      "  :\t:\n",
      "  (61884, 33468)\t0.06825532836448525\n",
      "  (61884, 33399)\t0.06285431940194196\n",
      "  (61884, 32141)\t0.06975318669642842\n",
      "  (61884, 32134)\t0.09992860850679411\n",
      "  (61884, 32047)\t0.06802631372778933\n",
      "  (61884, 32000)\t0.07768444422249857\n",
      "  (61884, 31497)\t0.0848544562046066\n",
      "  (61884, 30263)\t0.08264434389648914\n",
      "  (61884, 28569)\t0.08239977735318488\n",
      "  (61884, 25872)\t0.0708945276532341\n",
      "  (61884, 23346)\t0.07577910801550544\n",
      "  (61884, 22207)\t0.13116260492608103\n",
      "  (61884, 19655)\t0.07299187470045365\n",
      "  (61884, 17377)\t0.07710166191689048\n",
      "  (61884, 17265)\t0.054893642381600875\n",
      "  (61884, 11143)\t0.05909922132105687\n",
      "  (61884, 10547)\t0.06961934085198024\n",
      "  (61884, 8211)\t0.429147250863192\n",
      "  (61884, 8210)\t0.08950957977747284\n",
      "  (61884, 3991)\t0.0872994674693554\n",
      "  (61884, 3864)\t0.05042244882893574\n",
      "  (61884, 2107)\t0.08216110455701078\n",
      "  (61884, 2101)\t0.053934630146420255\n",
      "  (61884, 823)\t0.0678579622225852\n",
      "  (61884, 818)\t0.040028375281891126\n"
     ]
    }
   ],
   "source": [
    "from sklearn.feature_extraction.text import TfidfVectorizer, CountVectorizer\n",
    "tfidf_vect_ngram = TfidfVectorizer(analyzer='word', max_features=130000, ngram_range=(2, 3))\n",
    "tfidf_vect_ngram.fit(X)\n",
    "X_tfidf_ngram =  tfidf_vect_ngram.transform(X)\n",
    "print(X_tfidf_ngram)"
   ]
  },
  {
   "cell_type": "code",
   "execution_count": 9,
   "metadata": {},
   "outputs": [],
   "source": [
    "from sklearn.feature_extraction.text import TfidfVectorizer, CountVectorizer\n",
    "\n",
    "\n",
    "# create a count vectorizer object \n",
    "count_vect = CountVectorizer(analyzer='word', token_pattern=r'\\w{1,}')\n",
    "count_vect.fit(X)\n",
    "\n",
    "# transform the training and validation data using count vectorizer object\n",
    "X_count = count_vect.transform(X)\n"
   ]
  },
  {
   "cell_type": "code",
   "execution_count": 10,
   "metadata": {},
   "outputs": [
    {
     "name": "stdout",
     "output_type": "stream",
     "text": [
      "  (0, 1730)\t3\n",
      "  (0, 4409)\t1\n",
      "  (0, 5686)\t2\n",
      "  (0, 5723)\t1\n",
      "  (0, 7449)\t2\n",
      "  (0, 8123)\t1\n",
      "  (0, 8234)\t1\n",
      "  (0, 9086)\t12\n",
      "  (0, 9210)\t1\n",
      "  (0, 10751)\t1\n",
      "  (0, 11041)\t4\n",
      "  (0, 13145)\t1\n",
      "  (0, 13442)\t1\n",
      "  (0, 13579)\t1\n",
      "  (0, 14503)\t1\n",
      "  (0, 14896)\t1\n",
      "  (0, 15043)\t1\n",
      "  (0, 16180)\t2\n",
      "  (0, 17486)\t2\n",
      "  (0, 18508)\t2\n",
      "  (0, 19587)\t1\n",
      "  (0, 20607)\t2\n",
      "  (0, 22720)\t2\n",
      "  (0, 23778)\t1\n",
      "  (0, 24314)\t2\n",
      "  :\t:\n",
      "  (61884, 103923)\t2\n",
      "  (61884, 105076)\t3\n",
      "  (61884, 105195)\t1\n",
      "  (61884, 105295)\t1\n",
      "  (61884, 105661)\t2\n",
      "  (61884, 106452)\t1\n",
      "  (61884, 107184)\t3\n",
      "  (61884, 107556)\t1\n",
      "  (61884, 107715)\t1\n",
      "  (61884, 107802)\t1\n",
      "  (61884, 109629)\t3\n",
      "  (61884, 110659)\t1\n",
      "  (61884, 111041)\t5\n",
      "  (61884, 112464)\t1\n",
      "  (61884, 113462)\t3\n",
      "  (61884, 116541)\t1\n",
      "  (61884, 121944)\t1\n",
      "  (61884, 122531)\t7\n",
      "  (61884, 126959)\t1\n",
      "  (61884, 127506)\t4\n",
      "  (61884, 128718)\t3\n",
      "  (61884, 128966)\t1\n",
      "  (61884, 130026)\t1\n",
      "  (61884, 130877)\t1\n",
      "  (61884, 130936)\t5\n"
     ]
    }
   ],
   "source": [
    "print(X_count)"
   ]
  },
  {
   "cell_type": "code",
   "execution_count": 11,
   "metadata": {},
   "outputs": [
    {
     "name": "stdout",
     "output_type": "stream",
     "text": [
      "  (0, 128744)\t0.04167989122273196\n",
      "  (0, 127689)\t0.09132781194451856\n",
      "  (0, 126935)\t0.0336562011082162\n",
      "  (0, 126930)\t0.025972913746350336\n",
      "  (0, 126858)\t0.040892694086792795\n",
      "  (0, 126857)\t0.031607778130990985\n",
      "  (0, 125752)\t0.08782519844745275\n",
      "  (0, 125740)\t0.045011102727779286\n",
      "  (0, 125650)\t0.03522200551576742\n",
      "  (0, 124254)\t0.0427402375893184\n",
      "  (0, 124252)\t0.032993680119341486\n",
      "  (0, 124247)\t0.04013161809802881\n",
      "  (0, 124246)\t0.040455960300958986\n",
      "  (0, 124245)\t0.06606532509267492\n",
      "  (0, 124244)\t0.043750468998864304\n",
      "  (0, 124047)\t0.03621349681937087\n",
      "  (0, 124024)\t0.04189722926246487\n",
      "  (0, 124023)\t0.04127113927753113\n",
      "  (0, 123579)\t0.0410784117583869\n",
      "  (0, 123271)\t0.04212422988433965\n",
      "  (0, 123191)\t0.03388219697393655\n",
      "  (0, 123188)\t0.2470431982316362\n",
      "  (0, 123082)\t0.04408004613114927\n",
      "  (0, 122473)\t0.04224162983952237\n",
      "  (0, 122459)\t0.021937599768060284\n",
      "  :\t:\n",
      "  (61884, 33468)\t0.06825532836448525\n",
      "  (61884, 33399)\t0.06285431940194196\n",
      "  (61884, 32141)\t0.06975318669642842\n",
      "  (61884, 32134)\t0.09992860850679411\n",
      "  (61884, 32047)\t0.06802631372778933\n",
      "  (61884, 32000)\t0.07768444422249857\n",
      "  (61884, 31497)\t0.0848544562046066\n",
      "  (61884, 30263)\t0.08264434389648914\n",
      "  (61884, 28569)\t0.08239977735318488\n",
      "  (61884, 25872)\t0.0708945276532341\n",
      "  (61884, 23346)\t0.07577910801550544\n",
      "  (61884, 22207)\t0.13116260492608103\n",
      "  (61884, 19655)\t0.07299187470045365\n",
      "  (61884, 17377)\t0.07710166191689048\n",
      "  (61884, 17265)\t0.054893642381600875\n",
      "  (61884, 11143)\t0.05909922132105687\n",
      "  (61884, 10547)\t0.06961934085198024\n",
      "  (61884, 8211)\t0.429147250863192\n",
      "  (61884, 8210)\t0.08950957977747284\n",
      "  (61884, 3991)\t0.0872994674693554\n",
      "  (61884, 3864)\t0.05042244882893574\n",
      "  (61884, 2107)\t0.08216110455701078\n",
      "  (61884, 2101)\t0.053934630146420255\n",
      "  (61884, 823)\t0.0678579622225852\n",
      "  (61884, 818)\t0.040028375281891126\n"
     ]
    }
   ],
   "source": [
    "from sklearn.decomposition import TruncatedSVD\n",
    "svd_ngram = TruncatedSVD(n_components=300, random_state=42)\n",
    "svd_ngram.fit(X_tfidf_ngram)\n",
    "\n",
    "X_tfidf_ngram_svd = svd_ngram.transform(X_tfidf_ngram)\n",
    "print(X_tfidf_ngram)"
   ]
  },
  {
   "cell_type": "code",
   "execution_count": 12,
   "metadata": {},
   "outputs": [
    {
     "data": {
      "text/plain": [
       "(61885, 300)"
      ]
     },
     "execution_count": 12,
     "metadata": {},
     "output_type": "execute_result"
    }
   ],
   "source": [
    "svd = TruncatedSVD(n_components=300, random_state=42)\n",
    "svd.fit(X_tfidf_ngram)\n",
    "\n",
    "X_tfidf_ngram_svd = svd.transform(X_tfidf_ngram)\n",
    "#X_test_tfidf_svd = svd.transform(X_test_tfidf)\n",
    "X_tfidf_ngram_svd.shape"
   ]
  },
  {
   "cell_type": "code",
   "execution_count": 13,
   "metadata": {},
   "outputs": [
    {
     "data": {
      "text/plain": [
       "array(['bat dong san', 'bien dao', 'buu chinh vien thong', 'chinh sach',\n",
       "       'chinh tri', 'cong nghiep', 'du lich', 'giai tri', 'giao duc',\n",
       "       'giao thong van tai', 'hai quan', 'khoa hoc cong nghe',\n",
       "       'kiem toan', 'kinh doanh', 'kinh te', 'phap luat', 'phu nu',\n",
       "       'quoc hoi', 'quoc phong', 'suc khoe', 'tai chinh',\n",
       "       'tai nguyen moi truong', 'thanh nien', 'thanh tra', 'the thao',\n",
       "       'thoi trang', 'thuong mai', 'van hoa', 'van nghe', 'xa hoi',\n",
       "       'xay dung', 'y te'], dtype='<U21')"
      ]
     },
     "execution_count": 13,
     "metadata": {},
     "output_type": "execute_result"
    }
   ],
   "source": [
    "import sklearn\n",
    "encoder = sklearn.preprocessing.LabelEncoder()\n",
    "y = encoder.fit_transform(y)\n",
    "\n",
    "encoder.classes_"
   ]
  },
  {
   "cell_type": "markdown",
   "metadata": {},
   "source": [
    "# Mô hình"
   ]
  },
  {
   "cell_type": "markdown",
   "metadata": {},
   "source": [
    "Naive Bayes"
   ]
  },
  {
   "cell_type": "code",
   "execution_count": 12,
   "metadata": {},
   "outputs": [
    {
     "name": "stdout",
     "output_type": "stream",
     "text": [
      "Train accuracy:  0.6618242474789597\n",
      "Validation accuracy:  0.6235714538442486\n"
     ]
    }
   ],
   "source": [
    "from sklearn.naive_bayes import MultinomialNB\n",
    "from sklearn.model_selection import train_test_split    \n",
    "    \n",
    "X_train, X_val, y_train, y_val = train_test_split(X_tfidf, y, test_size=0.3, random_state=42)\n",
    "       \n",
    "cl=MultinomialNB().fit(X_train, y_train)\n",
    "\n",
    "train_predictions = cl.predict(X_train)\n",
    "val_predictions = cl.predict(X_val)\n",
    "\n",
    "print(\"Train accuracy: \", sklearn.metrics.accuracy_score(train_predictions, y_train))\n",
    "print(\"Validation accuracy: \", sklearn.metrics.accuracy_score(val_predictions, y_val))"
   ]
  },
  {
   "cell_type": "code",
   "execution_count": 15,
   "metadata": {},
   "outputs": [
    {
     "name": "stdout",
     "output_type": "stream",
     "text": [
      "Train accuracy:  0.7275791223250767\n",
      "Validation accuracy:  0.6413336205967898\n"
     ]
    }
   ],
   "source": [
    "from sklearn.naive_bayes import MultinomialNB\n",
    "from sklearn.model_selection import train_test_split    \n",
    "    \n",
    "X_train, X_val, y_train, y_val = train_test_split(X_tfidf_ngram, y, test_size=0.3, random_state=42)\n",
    "       \n",
    "cl=MultinomialNB().fit(X_train, y_train)\n",
    "\n",
    "train_predictions = cl.predict(X_train)\n",
    "val_predictions = cl.predict(X_val)\n",
    "\n",
    "print(\"Train accuracy: \", sklearn.metrics.accuracy_score(train_predictions, y_train))\n",
    "print(\"Validation accuracy: \", sklearn.metrics.accuracy_score(val_predictions, y_val))"
   ]
  },
  {
   "cell_type": "markdown",
   "metadata": {},
   "source": [
    "Logistic Regression"
   ]
  },
  {
   "cell_type": "code",
   "execution_count": 13,
   "metadata": {},
   "outputs": [
    {
     "name": "stderr",
     "output_type": "stream",
     "text": [
      "C:\\Users\\ASUS ZenBook\\Anaconda3\\lib\\site-packages\\sklearn\\linear_model\\_logistic.py:764: ConvergenceWarning: lbfgs failed to converge (status=1):\n",
      "STOP: TOTAL NO. of ITERATIONS REACHED LIMIT.\n",
      "\n",
      "Increase the number of iterations (max_iter) or scale the data as shown in:\n",
      "    https://scikit-learn.org/stable/modules/preprocessing.html\n",
      "Please also refer to the documentation for alternative solver options:\n",
      "    https://scikit-learn.org/stable/modules/linear_model.html#logistic-regression\n",
      "  extra_warning_msg=_LOGISTIC_SOLVER_CONVERGENCE_MSG)\n"
     ]
    },
    {
     "name": "stdout",
     "output_type": "stream",
     "text": [
      "Train accuracy:  0.815892031238153\n",
      "Validation accuracy:  0.7482574390545943\n"
     ]
    }
   ],
   "source": [
    "from sklearn.linear_model import LogisticRegression\n",
    "\n",
    "X_train, X_val, y_train, y_val = train_test_split(X_tfidf, y, test_size=0.3, random_state=42)\n",
    "       \n",
    "cl=LogisticRegression().fit(X_train, y_train)\n",
    "\n",
    "train_predictions = cl.predict(X_train)\n",
    "val_predictions = cl.predict(X_val)\n",
    "\n",
    "print(\"Train accuracy: \", sklearn.metrics.accuracy_score(train_predictions, y_train))\n",
    "print(\"Validation accuracy: \", sklearn.metrics.accuracy_score(val_predictions, y_val))"
   ]
  },
  {
   "cell_type": "code",
   "execution_count": 16,
   "metadata": {},
   "outputs": [
    {
     "name": "stderr",
     "output_type": "stream",
     "text": [
      "C:\\Users\\ASUS ZenBook\\Anaconda3\\lib\\site-packages\\sklearn\\linear_model\\_logistic.py:764: ConvergenceWarning: lbfgs failed to converge (status=1):\n",
      "STOP: TOTAL NO. of ITERATIONS REACHED LIMIT.\n",
      "\n",
      "Increase the number of iterations (max_iter) or scale the data as shown in:\n",
      "    https://scikit-learn.org/stable/modules/preprocessing.html\n",
      "Please also refer to the documentation for alternative solver options:\n",
      "    https://scikit-learn.org/stable/modules/linear_model.html#logistic-regression\n",
      "  extra_warning_msg=_LOGISTIC_SOLVER_CONVERGENCE_MSG)\n"
     ]
    },
    {
     "name": "stdout",
     "output_type": "stream",
     "text": [
      "Train accuracy:  0.8371384380987558\n",
      "Validation accuracy:  0.7020898416460196\n"
     ]
    }
   ],
   "source": [
    "from sklearn.linear_model import LogisticRegression\n",
    "\n",
    "X_train, X_val, y_train, y_val = train_test_split(X_tfidf_ngram, y, test_size=0.3, random_state=42)\n",
    "       \n",
    "cl=LogisticRegression().fit(X_train, y_train)\n",
    "\n",
    "train_predictions = cl.predict(X_train)\n",
    "val_predictions = cl.predict(X_val)\n",
    "\n",
    "print(\"Train accuracy: \", sklearn.metrics.accuracy_score(train_predictions, y_train))\n",
    "print(\"Validation accuracy: \", sklearn.metrics.accuracy_score(val_predictions, y_val))"
   ]
  },
  {
   "cell_type": "markdown",
   "metadata": {},
   "source": [
    "SVM"
   ]
  },
  {
   "cell_type": "code",
   "execution_count": 22,
   "metadata": {},
   "outputs": [
    {
     "name": "stdout",
     "output_type": "stream",
     "text": [
      "Train accuracy:  0.9365405480274245\n",
      "Validation accuracy:  0.709253474092427\n"
     ]
    }
   ],
   "source": [
    "from sklearn.svm import SVC   \n",
    "    \n",
    "X_train, X_val, y_train, y_val = train_test_split(X_tfidf_ngram, y, test_size=0.3, random_state=42)\n",
    "       \n",
    "cl=SVC().fit(X_train, y_train)\n",
    "\n",
    "train_predictions = cl.predict(X_train)\n",
    "val_predictions = cl.predict(X_val)\n",
    "\n",
    "print(\"Train accuracy: \", sklearn.metrics.accuracy_score(train_predictions, y_train))\n",
    "print(\"Validation accuracy: \", sklearn.metrics.accuracy_score(val_predictions, y_val))"
   ]
  },
  {
   "cell_type": "code",
   "execution_count": 18,
   "metadata": {},
   "outputs": [
    {
     "name": "stdout",
     "output_type": "stream",
     "text": [
      "Train accuracy:  0.9301690802941845\n",
      "Validation accuracy:  0.8202597034992747\n"
     ]
    }
   ],
   "source": [
    "from sklearn.svm import SVC   \n",
    "from sklearn.model_selection import train_test_split      \n",
    "X_train, X_val, y_train, y_val = train_test_split(X_tfidf, y, test_size=0.3, random_state=42)\n",
    "       \n",
    "cl=SVC().fit(X_train, y_train)\n",
    "\n",
    "train_predictions = cl.predict(X_train)\n",
    "val_predictions = cl.predict(X_val)\n",
    "\n",
    "print(\"Train accuracy: \", sklearn.metrics.accuracy_score(train_predictions, y_train))\n",
    "print(\"Validation accuracy: \", sklearn.metrics.accuracy_score(val_predictions, y_val))"
   ]
  },
  {
   "cell_type": "code",
   "execution_count": null,
   "metadata": {},
   "outputs": [],
   "source": []
  }
 ],
 "metadata": {
  "kernelspec": {
   "display_name": "Python 3",
   "language": "python",
   "name": "python3"
  },
  "language_info": {
   "codemirror_mode": {
    "name": "ipython",
    "version": 3
   },
   "file_extension": ".py",
   "mimetype": "text/x-python",
   "name": "python",
   "nbconvert_exporter": "python",
   "pygments_lexer": "ipython3",
   "version": "3.7.7"
  }
 },
 "nbformat": 4,
 "nbformat_minor": 4
}
