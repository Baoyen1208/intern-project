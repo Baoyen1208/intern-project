{
 "cells": [
  {
   "cell_type": "code",
   "execution_count": 57,
   "metadata": {},
   "outputs": [],
   "source": [
    "from pyvi import ViTokenizer, ViPosTagger # thư viện NLP tiếng Việt\n",
    "from tqdm import tqdm\n",
    "import numpy as np\n",
    "import gensim # thư viện NLP\n",
    "import os"
   ]
  },
  {
   "cell_type": "code",
   "execution_count": 58,
   "metadata": {},
   "outputs": [],
   "source": [
    "#Stop-words\n",
    "from string import punctuation\n",
    "stop_word = []\n",
    "with open(r\"C:\\Users\\ASUS ZenBook\\OneDrive\\Desktop\\vietnamese-stopwords-master\\vietnamese-stopwords.txt\",encoding=\"utf-8\") as f :\n",
    "    text = f.read()\n",
    "    for word in text.split() :\n",
    "        stop_word.append(word)\n",
    "    f.close()"
   ]
  },
  {
   "cell_type": "code",
   "execution_count": 59,
   "metadata": {},
   "outputs": [
    {
     "name": "stdout",
     "output_type": "stream",
     "text": [
      "['a', 'lô', 'a', 'ha', 'ai', 'ai', 'ai', 'ai', 'nấy', 'ai', 'đó', 'alô', 'amen', 'anh', 'anh', 'ấy', 'ba', 'ba', 'ba', 'ba', 'bản', 'ba', 'cùng', 'ba', 'họ', 'ba', 'ngày', 'ba', 'ngôi', 'ba', 'tăng', 'bao', 'giờ', 'bao', 'lâu', 'bao', 'nhiêu', 'bao', 'nả', 'bay', 'biến', 'biết', 'biết', 'bao', 'biết', 'bao', 'nhiêu', 'biết', 'chắc', 'biết', 'chừng', 'nào', 'biết', 'mình', 'biết', 'mấy', 'biết', 'thế', 'biết', 'trước', 'biết', 'việc', 'biết', 'đâu', 'biết', 'đâu', 'chừng', 'biết', 'đâu', 'đấy', 'biết', 'được', 'buổi', 'buổi', 'làm', 'buổi', 'mới', 'buổi', 'ngày', 'buổi', 'sớm', 'bà', 'bà', 'ấy', 'bài', 'bài', 'bác', 'bài', 'bỏ', 'bài', 'cái', 'bác', 'bán', 'bán', 'cấp', 'bán', 'dạ', 'bán', 'thế', 'bây', 'bẩy', 'bây', 'chừ', 'bây', 'giờ', 'bây', 'nhiêu', 'bèn', 'béng', 'bên', 'bên', 'bị', 'bên', 'có', 'bên', 'cạnh', 'bông', 'bước', 'bước', 'khỏi', 'bước', 'tới', 'bước', 'đi', 'bạn', 'bản', 'bản', 'bộ', 'bản', 'riêng', 'bản', 'thân', 'bản', 'ý', 'bất', 'chợt', 'bất', 'cứ', 'bất', 'giác', 'bất', 'kì', 'bất', 'kể', 'bất', 'kỳ', 'bất', 'luận', 'bất', 'ngờ', 'bất', 'nhược', 'bất', 'quá', 'bất', 'quá', 'chỉ', 'bất', 'thình', 'lình', 'bất', 'tử', 'bất', 'đồ', 'bấy', 'bấy', 'chầy', 'bấy', 'chừ', 'bấy', 'giờ', 'bấy', 'lâu', 'bấy', 'lâu', 'nay', 'bấy', 'nay', 'bấy', 'nhiêu', 'bập', 'bà', 'bập', 'bõm', 'bập', 'bõm', 'bắt', 'đầu', 'bắt', 'đầu', 'từ', 'bằng', 'bằng', 'cứ', 'bằng', 'không', 'bằng', 'người', 'bằng', 'nhau', 'bằng', 'như', 'bằng', 'nào', 'bằng', 'nấy', 'bằng', 'vào', 'bằng', 'được', 'bằng', 'ấy', 'bển', 'bệt', 'bị', 'bị', 'chú', 'bị', 'vì', 'bỏ', 'bỏ', 'bà', 'bỏ', 'cha', 'bỏ', 'cuộc', 'bỏ', 'không', 'bỏ', 'lại', 'bỏ', 'mình', 'bỏ', 'mất', 'bỏ', 'mẹ', 'bỏ', 'nhỏ', 'bỏ', 'quá', 'bỏ', 'ra', 'bỏ', 'riêng', 'bỏ', 'việc', 'bỏ', 'xa', 'bỗng', 'bỗng', 'chốc', 'bỗng', 'dưng', 'bỗng', 'không', 'bỗng', 'nhiên', 'bỗng', 'nhưng', 'bỗng', 'thấy', 'bỗng', 'đâu', 'bộ', 'bộ', 'thuộc', 'bộ', 'điều', 'bội', 'phần', 'bớ', 'bởi', 'bởi', 'ai', 'bởi', 'chưng', 'bởi', 'nhưng', 'bởi', 'sao', 'bởi', 'thế', 'bởi', 'thế', 'cho', 'nên', 'bởi', 'tại', 'bởi', 'vì', 'bởi', 'vậy', 'bởi', 'đâu', 'bức', 'cao', 'cao', 'lâu', 'cao', 'ráo', 'cao', 'răng', 'cao', 'sang', 'cao', 'số', 'cao', 'thấp', 'cao', 'thế', 'cao', 'xa', 'cha', 'cha', 'chả', 'chao', 'ôi', 'chia', 'sẻ', 'chiếc', 'cho', 'cho', 'biết', 'cho', 'chắc', 'cho', 'hay', 'cho', 'nhau', 'cho', 'nên', 'cho', 'rằng', 'cho', 'rồi', 'cho', 'thấy', 'cho', 'tin', 'cho', 'tới', 'cho', 'tới', 'khi', 'cho', 'về', 'cho', 'ăn', 'cho', 'đang', 'cho', 'được', 'cho', 'đến', 'cho', 'đến', 'khi', 'cho', 'đến', 'nỗi', 'choa', 'chu', 'cha', 'chui', 'cha', 'chung', 'chung', 'cho', 'chung', 'chung', 'chung', 'cuộc', 'chung', 'cục', 'chung', 'nhau', 'chung', 'qui', 'chung', 'quy', 'chung', 'quy', 'lại', 'chung', 'ái', 'chuyển', 'chuyển', 'tự', 'chuyển', 'đạt', 'chuyện', 'chuẩn', 'bị', 'chành', 'chạnh', 'chí', 'chết', 'chính', 'chính', 'bản', 'chính', 'giữa', 'chính', 'là', 'chính', 'thị', 'chính', 'điểm', 'chùn', 'chùn', 'chùn', 'chũn', 'chú', 'chú', 'dẫn', 'chú', 'khách', 'chú', 'mày', 'chú', 'mình', 'chúng', 'chúng', 'mình', 'chúng', 'ta', 'chúng', 'tôi', 'chúng', 'ông', 'chăn', 'chắn', 'chăng', 'chăng', 'chắc', 'chăng', 'nữa', 'chơi', 'chơi', 'họ', 'chưa', 'chưa', 'bao', 'giờ', 'chưa', 'chắc', 'chưa', 'có', 'chưa', 'cần', 'chưa', 'dùng', 'chưa', 'dễ', 'chưa', 'kể', 'chưa', 'tính', 'chưa', 'từng', 'chầm', 'chập', 'chậc', 'chắc', 'chắc', 'chắn', 'chắc', 'dạ', 'chắc', 'hẳn', 'chắc', 'lòng', 'chắc', 'người', 'chắc', 'vào', 'chắc', 'ăn', 'chẳng', 'lẽ', 'chẳng', 'những', 'chẳng', 'nữa', 'chẳng', 'phải', 'chết', 'nỗi', 'chết', 'thật', 'chết', 'tiệt', 'chỉ', 'chỉ', 'chính', 'chỉ', 'có', 'chỉ', 'là', 'chỉ', 'tên', 'chỉn', 'chị', 'chị', 'bộ', 'chị', 'ấy', 'chịu', 'chịu', 'chưa', 'chịu', 'lời', 'chịu', 'tốt', 'chịu', 'ăn', 'chọn', 'chọn', 'bên', 'chọn', 'ra', 'chốc', 'chốc', 'chớ', 'chớ', 'chi', 'chớ', 'gì', 'chớ', 'không', 'chớ', 'kể', 'chớ', 'như', 'chợt', 'chợt', 'nghe', 'chợt', 'nhìn', 'chủn', 'chứ', 'chứ', 'ai', 'chứ', 'còn', 'chứ', 'gì', 'chứ', 'không', 'chứ', 'không', 'phải', 'chứ', 'lại', 'chứ', 'lị', 'chứ', 'như', 'chứ', 'sao', 'coi', 'bộ', 'coi', 'mòi', 'con', 'con', 'con', 'con', 'dạ', 'con', 'nhà', 'con', 'tính', 'cu', 'cậu', 'cuối', 'cuối', 'cùng', 'cuối', 'điểm', 'cuốn', 'cuộc', 'càng', 'càng', 'càng', 'càng', 'hay', 'cá', 'nhân', 'các', 'các', 'cậu', 'cách', 'cách', 'bức', 'cách', 'không', 'cách', 'nhau', 'cách', 'đều', 'cái', 'cái', 'gì', 'cái', 'họ', 'cái', 'đã', 'cái', 'đó', 'cái', 'ấy', 'câu', 'hỏi', 'cây', 'cây', 'nước', 'còn', 'còn', 'như', 'còn', 'nữa', 'còn', 'thời', 'gian', 'còn', 'về', 'có', 'có', 'ai', 'có', 'chuyện', 'có', 'chăng', 'có', 'chăng', 'là', 'có', 'chứ', 'có', 'cơ', 'có', 'dễ', 'có', 'họ', 'có', 'khi', 'có', 'ngày', 'có', 'người', 'có', 'nhiều', 'có', 'nhà', 'có', 'phải', 'có', 'số', 'có', 'tháng', 'có', 'thế', 'có', 'thể', 'có', 'vẻ', 'có', 'ý', 'có', 'ăn', 'có', 'điều', 'có', 'điều', 'kiện', 'có', 'đáng', 'có', 'đâu', 'có', 'được', 'cóc', 'khô', 'cô', 'cô', 'mình', 'cô', 'quả', 'cô', 'tăng', 'cô', 'ấy', 'công', 'nhiên', 'cùng', 'cùng', 'chung', 'cùng', 'cực', 'cùng', 'nhau', 'cùng', 'tuổi', 'cùng', 'tột', 'cùng', 'với', 'cùng', 'ăn', 'căn', 'căn', 'cái', 'căn', 'cắt', 'căn', 'tính', 'cũng', 'cũng', 'như', 'cũng', 'nên', 'cũng', 'thế', 'cũng', 'vậy', 'cũng', 'vậy', 'thôi', 'cũng', 'được', 'cơ', 'cơ', 'chỉ', 'cơ', 'chừng', 'cơ', 'cùng', 'cơ', 'dẫn', 'cơ', 'hồ', 'cơ', 'hội', 'cơ', 'mà', 'cơn', 'cả', 'cả', 'nghe', 'cả', 'nghĩ', 'cả', 'ngày', 'cả', 'người', 'cả', 'nhà', 'cả', 'năm', 'cả', 'thảy', 'cả', 'thể', 'cả', 'tin', 'cả', 'ăn', 'cả', 'đến', 'cảm', 'thấy', 'cảm', 'ơn', 'cấp', 'cấp', 'số', 'cấp', 'trực', 'tiếp', 'cần', 'cần', 'cấp', 'cần', 'gì', 'cần', 'số', 'cật', 'lực', 'cật', 'sức', 'cậu', 'cổ', 'lai', 'cụ', 'thể', 'cụ', 'thể', 'là', 'cụ', 'thể', 'như', 'của', 'của', 'ngọt', 'của', 'tin', 'cứ', 'cứ', 'như', 'cứ', 'việc', 'cứ', 'điểm', 'cực', 'lực', 'do', 'do', 'vì', 'do', 'vậy', 'do', 'đó', 'duy', 'duy', 'chỉ', 'duy', 'có', 'dài', 'dài', 'lời', 'dài', 'ra', 'dành', 'dành', 'dành', 'dào', 'dì', 'dù', 'dù', 'cho', 'dù', 'dì', 'dù', 'gì', 'dù', 'rằng', 'dù', 'sao', 'dùng', 'dùng', 'cho', 'dùng', 'hết', 'dùng', 'làm', 'dùng', 'đến', 'dưới', 'dưới', 'nước', 'dạ', 'dạ', 'bán', 'dạ', 'con', 'dạ', 'dài', 'dạ', 'dạ', 'dạ', 'khách', 'dần', 'dà', 'dần', 'dần', 'dầu', 'sao', 'dẫn', 'dẫu', 'dẫu', 'mà', 'dẫu', 'rằng', 'dẫu', 'sao', 'dễ', 'dễ', 'dùng', 'dễ', 'gì', 'dễ', 'khiến', 'dễ', 'nghe', 'dễ', 'ngươi', 'dễ', 'như', 'chơi', 'dễ', 'sợ', 'dễ', 'sử', 'dụng', 'dễ', 'thường', 'dễ', 'thấy', 'dễ', 'ăn', 'dễ', 'đâu', 'dở', 'chừng', 'dữ', 'dữ', 'cách', 'em', 'em', 'em', 'giá', 'trị', 'giá', 'trị', 'thực', 'tế', 'giảm', 'giảm', 'chính', 'giảm', 'thấp', 'giảm', 'thế', 'giống', 'giống', 'người', 'giống', 'nhau', 'giống', 'như', 'giờ', 'giờ', 'lâu', 'giờ', 'này', 'giờ', 'đi', 'giờ', 'đây', 'giờ', 'đến', 'giữ', 'giữ', 'lấy', 'giữ', 'ý', 'giữa', 'giữa', 'lúc', 'gây', 'gây', 'cho', 'gây', 'giống', 'gây', 'ra', 'gây', 'thêm', 'gì', 'gì', 'gì', 'gì', 'đó', 'gần', 'gần', 'bên', 'gần', 'hết', 'gần', 'ngày', 'gần', 'như', 'gần', 'xa', 'gần', 'đây', 'gần', 'đến', 'gặp', 'gặp', 'khó', 'khăn', 'gặp', 'phải', 'gồm', 'hay', 'hay', 'biết', 'hay', 'hay', 'hay', 'không', 'hay', 'là', 'hay', 'làm', 'hay', 'nhỉ', 'hay', 'nói', 'hay', 'sao', 'hay', 'tin', 'hay', 'đâu', 'hiểu', 'hiện', 'nay', 'hiện', 'tại', 'hoàn', 'toàn', 'hoặc', 'hoặc', 'là', 'hãy', 'hãy', 'còn', 'hơn', 'hơn', 'cả', 'hơn', 'hết', 'hơn', 'là', 'hơn', 'nữa', 'hơn', 'trước', 'hầu', 'hết', 'hết', 'hết', 'chuyện', 'hết', 'cả', 'hết', 'của', 'hết', 'nói', 'hết', 'ráo', 'hết', 'rồi', 'hết', 'ý', 'họ', 'họ', 'gần', 'họ', 'xa', 'hỏi', 'hỏi', 'lại', 'hỏi', 'xem', 'hỏi', 'xin', 'hỗ', 'trợ', 'khi', 'khi', 'khác', 'khi', 'không', 'khi', 'nào', 'khi', 'nên', 'khi', 'trước', 'khiến', 'khoảng', 'khoảng', 'cách', 'khoảng', 'không', 'khá', 'khá', 'tốt', 'khác', 'khác', 'gì', 'khác', 'khác', 'khác', 'nhau', 'khác', 'nào', 'khác', 'thường', 'khác', 'xa', 'khách', 'khó', 'khó', 'biết', 'khó', 'chơi', 'khó', 'khăn', 'khó', 'làm', 'khó', 'mở', 'khó', 'nghe', 'khó', 'nghĩ', 'khó', 'nói', 'khó', 'thấy', 'khó', 'tránh', 'không', 'không', 'ai', 'không', 'bao', 'giờ', 'không', 'bao', 'lâu', 'không', 'biết', 'không', 'bán', 'không', 'chỉ', 'không', 'còn', 'không', 'có', 'không', 'có', 'gì', 'không', 'cùng', 'không', 'cần', 'không', 'cứ', 'không', 'dùng', 'không', 'gì', 'không', 'hay', 'không', 'khỏi', 'không', 'kể', 'không', 'ngoài', 'không', 'nhận', 'không', 'những', 'không', 'phải', 'không', 'phải', 'không', 'không', 'thể', 'không', 'tính', 'không', 'điều', 'kiện', 'không', 'được', 'không', 'đầy', 'không', 'để', 'khẳng', 'định', 'khỏi', 'khỏi', 'nói', 'kể', 'kể', 'cả', 'kể', 'như', 'kể', 'tới', 'kể', 'từ', 'liên', 'quan', 'loại', 'loại', 'từ', 'luôn', 'luôn', 'cả', 'luôn', 'luôn', 'luôn', 'tay', 'là', 'là', 'cùng', 'là', 'là', 'là', 'nhiều', 'là', 'phải', 'là', 'thế', 'nào', 'là', 'vì', 'là', 'ít', 'làm', 'làm', 'bằng', 'làm', 'cho', 'làm', 'dần', 'dần', 'làm', 'gì', 'làm', 'lòng', 'làm', 'lại', 'làm', 'lấy', 'làm', 'mất', 'làm', 'ngay', 'làm', 'như', 'làm', 'nên', 'làm', 'ra', 'làm', 'riêng', 'làm', 'sao', 'làm', 'theo', 'làm', 'thế', 'nào', 'làm', 'tin', 'làm', 'tôi', 'làm', 'tăng', 'làm', 'tại', 'làm', 'tắp', 'lự', 'làm', 'vì', 'làm', 'đúng', 'làm', 'được', 'lâu', 'lâu', 'các', 'lâu', 'lâu', 'lâu', 'nay', 'lâu', 'ngày', 'lên', 'lên', 'cao', 'lên', 'cơn', 'lên', 'mạnh', 'lên', 'ngôi', 'lên', 'nước', 'lên', 'số', 'lên', 'xuống', 'lên', 'đến', 'lòng', 'lòng', 'không', 'lúc', 'lúc', 'khác', 'lúc', 'lâu', 'lúc', 'nào', 'lúc', 'này', 'lúc', 'sáng', 'lúc', 'trước', 'lúc', 'đi', 'lúc', 'đó', 'lúc', 'đến', 'lúc', 'ấy', 'lý', 'do', 'lượng', 'lượng', 'cả', 'lượng', 'số', 'lượng', 'từ', 'lại', 'lại', 'bộ', 'lại', 'cái', 'lại', 'còn', 'lại', 'giống', 'lại', 'làm', 'lại', 'người', 'lại', 'nói', 'lại', 'nữa', 'lại', 'quả', 'lại', 'thôi', 'lại', 'ăn', 'lại', 'đây', 'lấy', 'lấy', 'có', 'lấy', 'cả', 'lấy', 'giống', 'lấy', 'làm', 'lấy', 'lý', 'do', 'lấy', 'lại', 'lấy', 'ra', 'lấy', 'ráo', 'lấy', 'sau', 'lấy', 'số', 'lấy', 'thêm', 'lấy', 'thế', 'lấy', 'vào', 'lấy', 'xuống', 'lấy', 'được', 'lấy', 'để', 'lần', 'lần', 'khác', 'lần', 'lần', 'lần', 'nào', 'lần', 'này', 'lần', 'sang', 'lần', 'sau', 'lần', 'theo', 'lần', 'trước', 'lần', 'tìm', 'lớn', 'lớn', 'lên', 'lớn', 'nhỏ', 'lời', 'lời', 'chú', 'lời', 'nói', 'mang', 'mang', 'lại', 'mang', 'mang', 'mang', 'nặng', 'mang', 'về', 'muốn', 'mà', 'mà', 'cả', 'mà', 'không', 'mà', 'lại', 'mà', 'thôi', 'mà', 'vẫn', 'mình', 'mạnh', 'mất', 'mất', 'còn', 'mọi', 'mọi', 'giờ', 'mọi', 'khi', 'mọi', 'lúc', 'mọi', 'người', 'mọi', 'nơi', 'mọi', 'sự', 'mọi', 'thứ', 'mọi', 'việc', 'mối', 'mỗi', 'mỗi', 'lúc', 'mỗi', 'lần', 'mỗi', 'một', 'mỗi', 'ngày', 'mỗi', 'người', 'một', 'một', 'cách', 'một', 'cơn', 'một', 'khi', 'một', 'lúc', 'một', 'số', 'một', 'vài', 'một', 'ít', 'mới', 'mới', 'hay', 'mới', 'rồi', 'mới', 'đây', 'mở', 'mở', 'mang', 'mở', 'nước', 'mở', 'ra', 'mợ', 'mức', 'nay', 'ngay', 'ngay', 'bây', 'giờ', 'ngay', 'cả', 'ngay', 'khi', 'ngay', 'khi', 'đến', 'ngay', 'lúc', 'ngay', 'lúc', 'này', 'ngay', 'lập', 'tức', 'ngay', 'thật', 'ngay', 'tức', 'khắc', 'ngay', 'tức', 'thì', 'ngay', 'từ', 'nghe', 'nghe', 'chừng', 'nghe', 'hiểu', 'nghe', 'không', 'nghe', 'lại', 'nghe', 'nhìn', 'nghe', 'như', 'nghe', 'nói', 'nghe', 'ra', 'nghe', 'rõ', 'nghe', 'thấy', 'nghe', 'tin', 'nghe', 'trực', 'tiếp', 'nghe', 'đâu', 'nghe', 'đâu', 'như', 'nghe', 'được', 'nghen', 'nghiễm', 'nhiên', 'nghĩ', 'nghĩ', 'lại', 'nghĩ', 'ra', 'nghĩ', 'tới', 'nghĩ', 'xa', 'nghĩ', 'đến', 'nghỉm', 'ngoài', 'ngoài', 'này', 'ngoài', 'ra', 'ngoài', 'xa', 'ngoải', 'nguồn', 'ngày', 'ngày', 'càng', 'ngày', 'cấp', 'ngày', 'giờ', 'ngày', 'ngày', 'ngày', 'nào', 'ngày', 'này', 'ngày', 'nọ', 'ngày', 'qua', 'ngày', 'rày', 'ngày', 'tháng', 'ngày', 'xưa', 'ngày', 'xửa', 'ngày', 'đến', 'ngày', 'ấy', 'ngôi', 'ngôi', 'nhà', 'ngôi', 'thứ', 'ngõ', 'hầu', 'ngăn', 'ngắt', 'ngươi', 'người', 'người', 'hỏi', 'người', 'khác', 'người', 'khách', 'người', 'mình', 'người', 'nghe', 'người', 'người', 'người', 'nhận', 'ngọn', 'ngọn', 'nguồn', 'ngọt', 'ngồi', 'ngồi', 'bệt', 'ngồi', 'không', 'ngồi', 'sau', 'ngồi', 'trệt', 'ngộ', 'nhỡ', 'nhanh', 'nhanh', 'lên', 'nhanh', 'tay', 'nhau', 'nhiên', 'hậu', 'nhiều', 'nhiều', 'ít', 'nhiệt', 'liệt', 'nhung', 'nhăng', 'nhà', 'nhà', 'chung', 'nhà', 'khó', 'nhà', 'làm', 'nhà', 'ngoài', 'nhà', 'ngươi', 'nhà', 'tôi', 'nhà', 'việc', 'nhân', 'dịp', 'nhân', 'tiện', 'nhé', 'nhìn', 'nhìn', 'chung', 'nhìn', 'lại', 'nhìn', 'nhận', 'nhìn', 'theo', 'nhìn', 'thấy', 'nhìn', 'xuống', 'nhóm', 'nhón', 'nhén', 'như', 'như', 'ai', 'như', 'chơi', 'như', 'không', 'như', 'là', 'như', 'nhau', 'như', 'quả', 'như', 'sau', 'như', 'thường', 'như', 'thế', 'như', 'thế', 'nào', 'như', 'thể', 'như', 'trên', 'như', 'trước', 'như', 'tuồng', 'như', 'vậy', 'như', 'ý', 'nhưng', 'nhưng', 'mà', 'nhược', 'bằng', 'nhất', 'nhất', 'loạt', 'nhất', 'luật', 'nhất', 'là', 'nhất', 'mực', 'nhất', 'nhất', 'nhất', 'quyết', 'nhất', 'sinh', 'nhất', 'thiết', 'nhất', 'thì', 'nhất', 'tâm', 'nhất', 'tề', 'nhất', 'đán', 'nhất', 'định', 'nhận', 'nhận', 'biết', 'nhận', 'họ', 'nhận', 'làm', 'nhận', 'nhau', 'nhận', 'ra', 'nhận', 'thấy', 'nhận', 'việc', 'nhận', 'được', 'nhằm', 'nhằm', 'khi', 'nhằm', 'lúc', 'nhằm', 'vào', 'nhằm', 'để', 'nhỉ', 'nhỏ', 'nhỏ', 'người', 'nhớ', 'nhớ', 'bập', 'bõm', 'nhớ', 'lại', 'nhớ', 'lấy', 'nhớ', 'ra', 'nhờ', 'nhờ', 'chuyển', 'nhờ', 'có', 'nhờ', 'nhờ', 'nhờ', 'đó', 'nhỡ', 'ra', 'những', 'những', 'ai', 'những', 'khi', 'những', 'là', 'những', 'lúc', 'những', 'muốn', 'những', 'như', 'nào', 'nào', 'cũng', 'nào', 'hay', 'nào', 'là', 'nào', 'phải', 'nào', 'đâu', 'nào', 'đó', 'này', 'này', 'nọ', 'nên', 'nên', 'chi', 'nên', 'chăng', 'nên', 'làm', 'nên', 'người', 'nên', 'tránh', 'nó', 'nóc', 'nói', 'nói', 'bông', 'nói', 'chung', 'nói', 'khó', 'nói', 'là', 'nói', 'lên', 'nói', 'lại', 'nói', 'nhỏ', 'nói', 'phải', 'nói', 'qua', 'nói', 'ra', 'nói', 'riêng', 'nói', 'rõ', 'nói', 'thêm', 'nói', 'thật', 'nói', 'toẹt', 'nói', 'trước', 'nói', 'tốt', 'nói', 'với', 'nói', 'xa', 'nói', 'ý', 'nói', 'đến', 'nói', 'đủ', 'năm', 'năm', 'tháng', 'nơi', 'nơi', 'nơi', 'nước', 'nước', 'bài', 'nước', 'cùng', 'nước', 'lên', 'nước', 'nặng', 'nước', 'quả', 'nước', 'xuống', 'nước', 'ăn', 'nước', 'đến', 'nấy', 'nặng', 'nặng', 'căn', 'nặng', 'mình', 'nặng', 'về', 'nếu', 'nếu', 'có', 'nếu', 'cần', 'nếu', 'không', 'nếu', 'mà', 'nếu', 'như', 'nếu', 'thế', 'nếu', 'vậy', 'nếu', 'được', 'nền', 'nọ', 'nớ', 'nức', 'nở', 'nữa', 'nữa', 'khi', 'nữa', 'là', 'nữa', 'rồi', 'oai', 'oái', 'oái', 'pho', 'phè', 'phè', 'phè', 'phía', 'phía', 'bên', 'phía', 'bạn', 'phía', 'dưới', 'phía', 'sau', 'phía', 'trong', 'phía', 'trên', 'phía', 'trước', 'phóc', 'phót', 'phù', 'hợp', 'phăn', 'phắt', 'phương', 'chi', 'phải', 'phải', 'biết', 'phải', 'chi', 'phải', 'chăng', 'phải', 'cách', 'phải', 'cái', 'phải', 'giờ', 'phải', 'khi', 'phải', 'không', 'phải', 'lại', 'phải', 'lời', 'phải', 'người', 'phải', 'như', 'phải', 'rồi', 'phải', 'tay', 'phần', 'phần', 'lớn', 'phần', 'nhiều', 'phần', 'nào', 'phần', 'sau', 'phần', 'việc', 'phắt', 'phỉ', 'phui', 'phỏng', 'phỏng', 'như', 'phỏng', 'nước', 'phỏng', 'theo', 'phỏng', 'tính', 'phốc', 'phụt', 'phứt', 'qua', 'qua', 'chuyện', 'qua', 'khỏi', 'qua', 'lại', 'qua', 'lần', 'qua', 'ngày', 'qua', 'tay', 'qua', 'thì', 'qua', 'đi', 'quan', 'trọng', 'quan', 'trọng', 'vấn', 'đề', 'quan', 'tâm', 'quay', 'quay', 'bước', 'quay', 'lại', 'quay', 'số', 'quay', 'đi', 'quá', 'quá', 'bán', 'quá', 'bộ', 'quá', 'giờ', 'quá', 'lời', 'quá', 'mức', 'quá', 'nhiều', 'quá', 'tay', 'quá', 'thì', 'quá', 'tin', 'quá', 'trình', 'quá', 'tuổi', 'quá', 'đáng', 'quá', 'ư', 'quả', 'quả', 'là', 'quả', 'thật', 'quả', 'thế', 'quả', 'vậy', 'quận', 'ra', 'ra', 'bài', 'ra', 'bộ', 'ra', 'chơi', 'ra', 'gì', 'ra', 'lại', 'ra', 'lời', 'ra', 'ngôi', 'ra', 'người', 'ra', 'sao', 'ra', 'tay', 'ra', 'vào', 'ra', 'ý', 'ra', 'điều', 'ra', 'đây', 'ren', 'rén', 'riu', 'ríu', 'riêng', 'riêng', 'từng', 'riệt', 'rày', 'ráo', 'ráo', 'cả', 'ráo', 'nước', 'ráo', 'trọi', 'rén', 'rén', 'bước', 'rích', 'rón', 'rén', 'rõ', 'rõ', 'là', 'rõ', 'thật', 'rút', 'cục', 'răng', 'răng', 'răng', 'rất', 'rất', 'lâu', 'rằng', 'rằng', 'là', 'rốt', 'cuộc', 'rốt', 'cục', 'rồi', 'rồi', 'nữa', 'rồi', 'ra', 'rồi', 'sao', 'rồi', 'sau', 'rồi', 'tay', 'rồi', 'thì', 'rồi', 'xem', 'rồi', 'đây', 'rứa', 'sa', 'sả', 'sang', 'sang', 'năm', 'sang', 'sáng', 'sang', 'tay', 'sao', 'sao', 'bản', 'sao', 'bằng', 'sao', 'cho', 'sao', 'vậy', 'sao', 'đang', 'sau', 'sau', 'chót', 'sau', 'cuối', 'sau', 'cùng', 'sau', 'hết', 'sau', 'này', 'sau', 'nữa', 'sau', 'sau', 'sau', 'đây', 'sau', 'đó', 'so', 'so', 'với', 'song', 'le', 'suýt', 'suýt', 'nữa', 'sáng', 'sáng', 'ngày', 'sáng', 'rõ', 'sáng', 'thế', 'sáng', 'ý', 'sì', 'sì', 'sì', 'sất', 'sắp', 'sắp', 'đặt', 'sẽ', 'sẽ', 'biết', 'sẽ', 'hay', 'số', 'số', 'cho', 'biết', 'số', 'cụ', 'thể', 'số', 'loại', 'số', 'là', 'số', 'người', 'số', 'phần', 'số', 'thiếu', 'sốt', 'sột', 'sớm', 'sớm', 'ngày', 'sở', 'dĩ', 'sử', 'dụng', 'sự', 'sự', 'thế', 'sự', 'việc', 'tanh', 'tanh', 'tanh', 'tay', 'tay', 'quay', 'tha', 'hồ', 'tha', 'hồ', 'chơi', 'tha', 'hồ', 'ăn', 'than', 'ôi', 'thanh', 'thanh', 'ba', 'thanh', 'chuyển', 'thanh', 'không', 'thanh', 'thanh', 'thanh', 'tính', 'thanh', 'điều', 'kiện', 'thanh', 'điểm', 'thay', 'đổi', 'thay', 'đổi', 'tình', 'trạng', 'theo', 'theo', 'bước', 'theo', 'như', 'theo', 'tin', 'thi', 'thoảng', 'thiếu', 'thiếu', 'gì', 'thiếu', 'điểm', 'thoạt', 'thoạt', 'nghe', 'thoạt', 'nhiên', 'thoắt', 'thuần', 'thuần', 'ái', 'thuộc', 'thuộc', 'bài', 'thuộc', 'cách', 'thuộc', 'lại', 'thuộc', 'từ', 'thà', 'thà', 'là', 'thà', 'rằng', 'thành', 'ra', 'thành', 'thử', 'thái', 'quá', 'tháng', 'tháng', 'ngày', 'tháng', 'năm', 'tháng', 'tháng', 'thêm', 'thêm', 'chuyện', 'thêm', 'giờ', 'thêm', 'vào', 'thì', 'thì', 'giờ', 'thì', 'là', 'thì', 'phải', 'thì', 'ra', 'thì', 'thôi', 'thình', 'lình', 'thích', 'thích', 'cứ', 'thích', 'thuộc', 'thích', 'tự', 'thích', 'ý', 'thím', 'thôi', 'thôi', 'việc', 'thúng', 'thắng', 'thương', 'ôi', 'thường', 'thường', 'bị', 'thường', 'hay', 'thường', 'khi', 'thường', 'số', 'thường', 'sự', 'thường', 'thôi', 'thường', 'thường', 'thường', 'tính', 'thường', 'tại', 'thường', 'xuất', 'hiện', 'thường', 'đến', 'thảo', 'hèn', 'thảo', 'nào', 'thấp', 'thấp', 'cơ', 'thấp', 'thỏm', 'thấp', 'xuống', 'thấy', 'thấy', 'tháng', 'thẩy', 'thậm', 'thậm', 'chí', 'thậm', 'cấp', 'thậm', 'từ', 'thật', 'thật', 'chắc', 'thật', 'là', 'thật', 'lực', 'thật', 'quả', 'thật', 'ra', 'thật', 'sự', 'thật', 'thà', 'thật', 'tốt', 'thật', 'vậy', 'thế', 'thế', 'chuẩn', 'bị', 'thế', 'là', 'thế', 'lại', 'thế', 'mà', 'thế', 'nào', 'thế', 'nên', 'thế', 'ra', 'thế', 'sự', 'thế', 'thì', 'thế', 'thôi', 'thế', 'thường', 'thế', 'thế', 'thế', 'à', 'thế', 'đó', 'thếch', 'thỉnh', 'thoảng', 'thỏm', 'thốc', 'thốc', 'tháo', 'thốt', 'thốt', 'nhiên', 'thốt', 'nói', 'thốt', 'thôi', 'thộc', 'thời', 'gian', 'thời', 'gian', 'sử', 'dụng', 'thời', 'gian', 'tính', 'thời', 'điểm', 'thục', 'mạng', 'thứ', 'thứ', 'bản', 'thứ', 'đến', 'thửa', 'thực', 'hiện', 'thực', 'hiện', 'đúng', 'thực', 'ra', 'thực', 'sự', 'thực', 'tế', 'thực', 'vậy', 'tin', 'tin', 'thêm', 'tin', 'vào', 'tiếp', 'theo', 'tiếp', 'tục', 'tiếp', 'đó', 'tiện', 'thể', 'toà', 'toé', 'khói', 'toẹt', 'trong', 'trong', 'khi', 'trong', 'lúc', 'trong', 'mình', 'trong', 'ngoài', 'trong', 'này', 'trong', 'số', 'trong', 'vùng', 'trong', 'đó', 'trong', 'ấy', 'tránh', 'tránh', 'khỏi', 'tránh', 'ra', 'tránh', 'tình', 'trạng', 'tránh', 'xa', 'trên', 'trên', 'bộ', 'trên', 'dưới', 'trước', 'trước', 'hết', 'trước', 'khi', 'trước', 'kia', 'trước', 'nay', 'trước', 'ngày', 'trước', 'nhất', 'trước', 'sau', 'trước', 'tiên', 'trước', 'tuổi', 'trước', 'đây', 'trước', 'đó', 'trả', 'trả', 'của', 'trả', 'lại', 'trả', 'ngay', 'trả', 'trước', 'trếu', 'tráo', 'trển', 'trệt', 'trệu', 'trạo', 'trỏng', 'trời', 'đất', 'ơi', 'trở', 'thành', 'trừ', 'phi', 'trực', 'tiếp', 'trực', 'tiếp', 'làm', 'tuy', 'tuy', 'có', 'tuy', 'là', 'tuy', 'nhiên', 'tuy', 'rằng', 'tuy', 'thế', 'tuy', 'vậy', 'tuy', 'đã', 'tuyệt', 'nhiên', 'tuần', 'tự', 'tuốt', 'luốt', 'tuốt', 'tuồn', 'tuột', 'tuốt', 'tuột', 'tuổi', 'tuổi', 'cả', 'tuổi', 'tôi', 'tà', 'tà', 'tên', 'tên', 'chính', 'tên', 'cái', 'tên', 'họ', 'tên', 'tự', 'tênh', 'tênh', 'tênh', 'tìm', 'tìm', 'bạn', 'tìm', 'cách', 'tìm', 'hiểu', 'tìm', 'ra', 'tìm', 'việc', 'tình', 'trạng', 'tính', 'tính', 'cách', 'tính', 'căn', 'tính', 'người', 'tính', 'phỏng', 'tính', 'từ', 'tít', 'mù', 'tò', 'te', 'tôi', 'tôi', 'con', 'tông', 'tốc', 'tù', 'tì', 'tăm', 'tắp', 'tăng', 'tăng', 'chúng', 'tăng', 'cấp', 'tăng', 'giảm', 'tăng', 'thêm', 'tăng', 'thế', 'tại', 'tại', 'lòng', 'tại', 'nơi', 'tại', 'sao', 'tại', 'tôi', 'tại', 'vì', 'tại', 'đâu', 'tại', 'đây', 'tại', 'đó', 'tạo', 'tạo', 'cơ', 'hội', 'tạo', 'nên', 'tạo', 'ra', 'tạo', 'ý', 'tạo', 'điều', 'kiện', 'tấm', 'tấm', 'bản', 'tấm', 'các', 'tấn', 'tấn', 'tới', 'tất', 'cả', 'tất', 'cả', 'bao', 'nhiêu', 'tất', 'thảy', 'tất', 'tần', 'tật', 'tất', 'tật', 'tập', 'trung', 'tắp', 'tắp', 'lự', 'tắp', 'tắp', 'tọt', 'tỏ', 'ra', 'tỏ', 'vẻ', 'tốc', 'tả', 'tối', 'ư', 'tốt', 'tốt', 'bạn', 'tốt', 'bộ', 'tốt', 'hơn', 'tốt', 'mối', 'tốt', 'ngày', 'tột', 'tột', 'cùng', 'tớ', 'tới', 'tới', 'gần', 'tới', 'mức', 'tới', 'nơi', 'tới', 'thì', 'tức', 'thì', 'tức', 'tốc', 'từ', 'từ', 'căn', 'từ', 'giờ', 'từ', 'khi', 'từ', 'loại', 'từ', 'nay', 'từ', 'thế', 'từ', 'tính', 'từ', 'tại', 'từ', 'từ', 'từ', 'ái', 'từ', 'điều', 'từ', 'đó', 'từ', 'ấy', 'từng', 'từng', 'cái', 'từng', 'giờ', 'từng', 'nhà', 'từng', 'phần', 'từng', 'thời', 'gian', 'từng', 'đơn', 'vị', 'từng', 'ấy', 'tự', 'tự', 'cao', 'tự', 'khi', 'tự', 'lượng', 'tự', 'tính', 'tự', 'tạo', 'tự', 'vì', 'tự', 'ý', 'tự', 'ăn', 'tựu', 'trung', 'veo', 'veo', 'veo', 'việc', 'việc', 'gì', 'vung', 'thiên', 'địa', 'vung', 'tàn', 'tán', 'vung', 'tán', 'tàn', 'và', 'vài', 'vài', 'ba', 'vài', 'người', 'vài', 'nhà', 'vài', 'nơi', 'vài', 'tên', 'vài', 'điều', 'vào', 'vào', 'gặp', 'vào', 'khoảng', 'vào', 'lúc', 'vào', 'vùng', 'vào', 'đến', 'vâng', 'vâng', 'chịu', 'vâng', 'dạ', 'vâng', 'vâng', 'vâng', 'ý', 'vèo', 'vèo', 'vèo', 'vì', 'vì', 'chưng', 'vì', 'rằng', 'vì', 'sao', 'vì', 'thế', 'vì', 'vậy', 'ví', 'bằng', 'ví', 'dù', 'ví', 'phỏng', 'ví', 'thử', 'vô', 'hình', 'trung', 'vô', 'kể', 'vô', 'luận', 'vô', 'vàn', 'vùng', 'vùng', 'lên', 'vùng', 'nước', 'văng', 'tê', 'vượt', 'vượt', 'khỏi', 'vượt', 'quá', 'vạn', 'nhất', 'vả', 'chăng', 'vả', 'lại', 'vấn', 'đề', 'vấn', 'đề', 'quan', 'trọng', 'vẫn', 'vẫn', 'thế', 'vậy', 'vậy', 'là', 'vậy', 'mà', 'vậy', 'nên', 'vậy', 'ra', 'vậy', 'thì', 'vậy', 'ư', 'về', 'về', 'không', 'về', 'nước', 'về', 'phần', 'về', 'sau', 'về', 'tay', 'vị', 'trí', 'vị', 'tất', 'vốn', 'dĩ', 'với', 'với', 'lại', 'với', 'nhau', 'vở', 'vụt', 'vừa', 'vừa', 'khi', 'vừa', 'lúc', 'vừa', 'mới', 'vừa', 'qua', 'vừa', 'rồi', 'vừa', 'vừa', 'xa', 'xa', 'cách', 'xa', 'gần', 'xa', 'nhà', 'xa', 'tanh', 'xa', 'tắp', 'xa', 'xa', 'xa', 'xả', 'xem', 'xem', 'lại', 'xem', 'ra', 'xem', 'số', 'xin', 'xin', 'gặp', 'xin', 'vâng', 'xiết', 'bao', 'xon', 'xón', 'xoành', 'xoạch', 'xoét', 'xoẳn', 'xoẹt', 'xuất', 'hiện', 'xuất', 'kì', 'bất', 'ý', 'xuất', 'kỳ', 'bất', 'ý', 'xuể', 'xuống', 'xăm', 'xúi', 'xăm', 'xăm', 'xăm', 'xắm', 'xảy', 'ra', 'xềnh', 'xệch', 'xệp', 'xử', 'lý', 'yêu', 'cầu', 'à', 'à', 'này', 'à', 'ơi', 'ào', 'ào', 'vào', 'ào', 'ào', 'á', 'á', 'à', 'ái', 'ái', 'chà', 'ái', 'dà', 'áng', 'áng', 'như', 'âu', 'là', 'ít', 'ít', 'biết', 'ít', 'có', 'ít', 'hơn', 'ít', 'khi', 'ít', 'lâu', 'ít', 'nhiều', 'ít', 'nhất', 'ít', 'nữa', 'ít', 'quá', 'ít', 'ra', 'ít', 'thôi', 'ít', 'thấy', 'ô', 'hay', 'ô', 'hô', 'ô', 'kê', 'ô', 'kìa', 'ôi', 'chao', 'ôi', 'thôi', 'ông', 'ông', 'nhỏ', 'ông', 'tạo', 'ông', 'từ', 'ông', 'ấy', 'ông', 'ổng', 'úi', 'úi', 'chà', 'úi', 'dào', 'ý', 'ý', 'chừng', 'ý', 'da', 'ý', 'hoặc', 'ăn', 'ăn', 'chung', 'ăn', 'chắc', 'ăn', 'chịu', 'ăn', 'cuộc', 'ăn', 'hết', 'ăn', 'hỏi', 'ăn', 'làm', 'ăn', 'người', 'ăn', 'ngồi', 'ăn', 'quá', 'ăn', 'riêng', 'ăn', 'sáng', 'ăn', 'tay', 'ăn', 'trên', 'ăn', 'về', 'đang', 'đang', 'tay', 'đang', 'thì', 'điều', 'điều', 'gì', 'điều', 'kiện', 'điểm', 'điểm', 'chính', 'điểm', 'gặp', 'điểm', 'đầu', 'tiên', 'đành', 'đạch', 'đáng', 'đáng', 'kể', 'đáng', 'lí', 'đáng', 'lý', 'đáng', 'lẽ', 'đáng', 'số', 'đánh', 'giá', 'đánh', 'đùng', 'đáo', 'để', 'đâu', 'đâu', 'có', 'đâu', 'cũng', 'đâu', 'như', 'đâu', 'nào', 'đâu', 'phải', 'đâu', 'đâu', 'đâu', 'đây', 'đâu', 'đó', 'đây', 'đây', 'này', 'đây', 'rồi', 'đây', 'đó', 'đã', 'đã', 'hay', 'đã', 'không', 'đã', 'là', 'đã', 'lâu', 'đã', 'thế', 'đã', 'vậy', 'đã', 'đủ', 'đó', 'đó', 'đây', 'đúng', 'đúng', 'ngày', 'đúng', 'ra', 'đúng', 'tuổi', 'đúng', 'với', 'đơn', 'vị', 'đưa', 'đưa', 'cho', 'đưa', 'chuyện', 'đưa', 'em', 'đưa', 'ra', 'đưa', 'tay', 'đưa', 'tin', 'đưa', 'tới', 'đưa', 'vào', 'đưa', 'về', 'đưa', 'xuống', 'đưa', 'đến', 'được', 'được', 'cái', 'được', 'lời', 'được', 'nước', 'được', 'tin', 'đại', 'loại', 'đại', 'nhân', 'đại', 'phàm', 'đại', 'để', 'đạt', 'đảm', 'bảo', 'đầu', 'tiên', 'đầy', 'đầy', 'năm', 'đầy', 'phè', 'đầy', 'tuổi', 'đặc', 'biệt', 'đặt', 'đặt', 'làm', 'đặt', 'mình', 'đặt', 'mức', 'đặt', 'ra', 'đặt', 'trước', 'đặt', 'để', 'đến', 'đến', 'bao', 'giờ', 'đến', 'cùng', 'đến', 'cùng', 'cực', 'đến', 'cả', 'đến', 'giờ', 'đến', 'gần', 'đến', 'hay', 'đến', 'khi', 'đến', 'lúc', 'đến', 'lời', 'đến', 'nay', 'đến', 'ngày', 'đến', 'nơi', 'đến', 'nỗi', 'đến', 'thì', 'đến', 'thế', 'đến', 'tuổi', 'đến', 'xem', 'đến', 'điều', 'đến', 'đâu', 'đều', 'đều', 'bước', 'đều', 'nhau', 'đều', 'đều', 'để', 'để', 'cho', 'để', 'giống', 'để', 'không', 'để', 'lòng', 'để', 'lại', 'để', 'mà', 'để', 'phần', 'để', 'được', 'để', 'đến', 'nỗi', 'đối', 'với', 'đồng', 'thời', 'đủ', 'đủ', 'dùng', 'đủ', 'nơi', 'đủ', 'số', 'đủ', 'điều', 'đủ', 'điểm', 'ơ', 'ơ', 'hay', 'ơ', 'kìa', 'ơi', 'ơi', 'là', 'ư', 'ạ', 'ạ', 'ơi', 'ấy', 'ấy', 'là', 'ầu', 'ơ', 'ắt', 'ắt', 'hẳn', 'ắt', 'là', 'ắt', 'phải', 'ắt', 'thật', 'ối', 'dào', 'ối', 'giời', 'ối', 'giời', 'ơi', 'ồ', 'ồ', 'ồ', 'ổng', 'ớ', 'ớ', 'này', 'ờ', 'ờ', 'ờ', 'ở', 'ở', 'lại', 'ở', 'như', 'ở', 'nhờ', 'ở', 'năm', 'ở', 'trên', 'ở', 'vào', 'ở', 'đây', 'ở', 'đó', 'ở', 'được', 'ủa', 'ứ', 'hự', 'ứ', 'ừ', 'ừ', 'ừ', 'nhé', 'ừ', 'thì', 'ừ', 'ào', 'ừ', 'ừ', 'ử', '!', '\"', '#', '$', '%', '&', \"'\", '(', ')', '*', '+', ',', '-', '.', '/', ':', ';', '<', '=', '>', '?', '@', '[', '\\\\', ']', '^', '_', '`', '{', '|', '}', '~']\n"
     ]
    }
   ],
   "source": [
    "punc = list(punctuation)\n",
    "stop_word = stop_word + punc\n",
    "print(stop_word)"
   ]
  },
  {
   "cell_type": "code",
   "execution_count": 60,
   "metadata": {
    "scrolled": true
   },
   "outputs": [
    {
     "name": "stdout",
     "output_type": "stream",
     "text": [
      "  (0, 2893)\t0.06113581129870388\n",
      "  (0, 2811)\t0.10988401048004968\n",
      "  (0, 2696)\t0.12056732693176198\n",
      "  (0, 2683)\t0.07680667026337806\n",
      "  (0, 2651)\t0.10769342059242937\n",
      "  (0, 2617)\t0.1587946190169317\n",
      "  (0, 2575)\t0.1452754479843506\n",
      "  (0, 2490)\t0.09277035426426122\n",
      "  (0, 2389)\t0.19370059731246747\n",
      "  (0, 2369)\t0.14257541518265213\n",
      "  (0, 2239)\t0.05970319417290245\n",
      "  (0, 2230)\t0.10018785000790364\n",
      "  (0, 2195)\t0.06822083322142587\n",
      "  (0, 2172)\t0.0518797445550169\n",
      "  (0, 2171)\t0.2273014088423586\n",
      "  (0, 2149)\t0.06421088622831347\n",
      "  (0, 2116)\t0.05923966827965966\n",
      "  (0, 2001)\t0.0757671362807862\n",
      "  (0, 1992)\t0.5150055760687929\n",
      "  (0, 1968)\t0.12056732693176198\n",
      "  (0, 1905)\t0.08787592222915953\n",
      "  (0, 1743)\t0.2570559970246177\n",
      "  (0, 1711)\t0.07989644792492862\n",
      "  (0, 1710)\t0.1716685253562643\n",
      "  (0, 1704)\t0.17806125967297237\n",
      "  :\t:\n",
      "  (162, 408)\t0.035063149586050515\n",
      "  (162, 400)\t0.1370403623481988\n",
      "  (162, 399)\t0.09169895367922658\n",
      "  (162, 321)\t0.028586557482701714\n",
      "  (162, 318)\t0.03392991872464046\n",
      "  (162, 308)\t0.034674958372293896\n",
      "  (162, 297)\t0.039699695551013034\n",
      "  (162, 289)\t0.04501407702035031\n",
      "  (162, 282)\t0.06320013545598754\n",
      "  (162, 264)\t0.05101270640812365\n",
      "  (162, 218)\t0.048710721703669496\n",
      "  (162, 182)\t0.033223103447664236\n",
      "  (162, 155)\t0.06891666584890037\n",
      "  (162, 86)\t0.07450392508256007\n",
      "  (162, 85)\t0.06891666584890037\n",
      "  (162, 79)\t0.046738809709302394\n",
      "  (162, 74)\t0.05936518310125145\n",
      "  (162, 71)\t0.06891666584890037\n",
      "  (162, 67)\t0.12695551266393446\n",
      "  (162, 49)\t0.04501407702035031\n",
      "  (162, 40)\t0.046738809709302394\n",
      "  (162, 26)\t0.026746511344315438\n",
      "  (162, 17)\t0.271333915230277\n",
      "  (162, 10)\t0.022515744185533006\n",
      "  (162, 5)\t0.19157570975052995\n"
     ]
    }
   ],
   "source": [
    "folder_path =\"C:/Users/ASUS ZenBook/OneDrive/Desktop/live\"\n",
    "path=\"an_ninh.txt\"\n",
    "X = []\n",
    "y = []\n",
    "with open (os.path.join(folder_path, path), encoding = \"utf8\",) as f:\n",
    "    for k in f.read().split('\\n' + '*' * 100 + '\\n'):\n",
    "        if k!= '':\n",
    "            k=gensim.utils.simple_preprocess(k)\n",
    "        \n",
    "                # stop word\n",
    "            tmp=[]\n",
    "\n",
    "            for i in k:\n",
    "                if i not in stop_word:\n",
    "                    tmp.append(i)\n",
    "            k=tmp\n",
    "                        ###\n",
    "            \n",
    "            k=' '.join(k)\n",
    "            k=ViTokenizer.tokenize(k)\n",
    "            X.append(k)\n",
    "from sklearn.feature_extraction.text import TfidfVectorizer, CountVectorizer\n",
    "tfidf_vect = TfidfVectorizer(analyzer='word')\n",
    "tfidf_vect.fit(X)\n",
    "X_tfidf =  tfidf_vect.transform(X)\n",
    "print(X_tfidf)\n",
    "\n"
   ]
  },
  {
   "cell_type": "code",
   "execution_count": 61,
   "metadata": {},
   "outputs": [
    {
     "name": "stdout",
     "output_type": "stream",
     "text": [
      "an_ninh.txt\n",
      "an_ninh_trat_tu.txt\n",
      "bat_dong_san.txt\n",
      "bien_dao.txt\n",
      "buu_chinh_vien_thong.txt\n",
      "chinh_sach.txt\n",
      "chinh_tri.txt\n",
      "cong_nghiep.txt\n",
      "dan_toc.txt\n",
      "dau_thau.txt\n",
      "doi_ngoai.txt\n",
      "do_thi.txt\n",
      "du_lich.txt\n",
      "giai_tri.txt\n",
      "giao_duc.txt\n",
      "giao_thong_van_tai.txt\n",
      "hai_quan.txt\n",
      "khoa_hoc_cong_nghe.txt\n",
      "kiem_toan.txt\n",
      "kinh_doanh.txt\n",
      "kinh_te.txt\n",
      "lao_dong.txt\n",
      "lao_dong_thuong_binh_va_xa_hoi.txt\n",
      "nang_luong.txt\n",
      "nong_nghiep.txt\n",
      "phap_luat.txt\n",
      "phu_nu.txt\n",
      "quoc_hoi.txt\n",
      "quoc_phong.txt\n",
      "so_huu_tri_tue.txt\n",
      "suc_khoe.txt\n",
      "tai_chinh.txt\n",
      "tai_nguyen_moi_truong.txt\n",
      "thanh_nien.txt\n",
      "thanh_tra.txt\n",
      "the_thao.txt\n",
      "thoi_trang.txt\n",
      "thong_tin_va_truyen_thong.txt\n",
      "thuong_mai.txt\n",
      "tre_em.txt\n",
      "van_hoa.txt\n",
      "van_nghe.txt\n",
      "xay_dung.txt\n",
      "xa_hoi.txt\n",
      "y_te.txt\n"
     ]
    }
   ],
   "source": [
    "X=[]\n",
    "y=[]\n",
    "folder_path =\"C:/Users/ASUS ZenBook/OneDrive/Desktop/live\"\n",
    "def get_label1(s):   # chuyển tên file thành label\n",
    "    s=s.replace('.txt','')\n",
    "    \n",
    "    \n",
    "    s=s.split('_')\n",
    "    s = ' '.join(s)\n",
    "    s=s.replace('  ','')\n",
    "    if s[len(s)-1]==' ':\n",
    "        s=s[:len(s)-1]\n",
    "    return s\n",
    "\n",
    "dirs = os.listdir(folder_path)\n",
    "for path in (dirs):\n",
    "    with open (os.path.join(folder_path, path), encoding = \"utf8\",) as f:\n",
    "        data = f.read()\n",
    "        print(path)\n",
    "        for k in data.split('\\n' + '*' * 100 + '\\n'):\n",
    "            if k!= '':\n",
    "                k=gensim.utils.simple_preprocess(k)\n",
    "               \n",
    "                    # stop word\n",
    "                tmp=[]\n",
    "\n",
    "                for i in k:\n",
    "                    if i not in stop_word:\n",
    "                        tmp.append(i)\n",
    "                k=tmp\n",
    "                            ###\n",
    "\n",
    "                k=' '.join(k)\n",
    "                k=ViTokenizer.tokenize(k)\n",
    "                X.append(k)\n",
    "                k=get_label1(path)\n",
    "                y.append(k)"
   ]
  },
  {
   "cell_type": "code",
   "execution_count": 62,
   "metadata": {},
   "outputs": [
    {
     "data": {
      "text/plain": [
       "71786"
      ]
     },
     "execution_count": 62,
     "metadata": {},
     "output_type": "execute_result"
    }
   ],
   "source": [
    "len(X)"
   ]
  },
  {
   "cell_type": "code",
   "execution_count": 63,
   "metadata": {},
   "outputs": [
    {
     "name": "stdout",
     "output_type": "stream",
     "text": [
      "  (0, 161231)\t0.07354417150078013\n",
      "  (0, 159143)\t0.08044694183925818\n",
      "  (0, 153685)\t0.126768848105136\n",
      "  (0, 153220)\t0.08866593841997364\n",
      "  (0, 151788)\t0.10485796993535769\n",
      "  (0, 149088)\t0.17566731326625223\n",
      "  (0, 147927)\t0.15178050664781012\n",
      "  (0, 141731)\t0.10534311200597124\n",
      "  (0, 138234)\t0.26685073281057065\n",
      "  (0, 137600)\t0.11507554693582313\n",
      "  (0, 132750)\t0.0418102450059697\n",
      "  (0, 132583)\t0.0930536033935651\n",
      "  (0, 131478)\t0.05443411837320902\n",
      "  (0, 130293)\t0.06563216138380278\n",
      "  (0, 130145)\t0.16827189864043\n",
      "  (0, 128893)\t0.05758760776660579\n",
      "  (0, 127618)\t0.05191715300170949\n",
      "  (0, 122638)\t0.059889994316988444\n",
      "  (0, 122217)\t0.4851683592454617\n",
      "  (0, 120163)\t0.10426583374456064\n",
      "  (0, 118160)\t0.07918739908492314\n",
      "  (0, 99581)\t0.16128085153958943\n",
      "  (0, 98476)\t0.08742591079822394\n",
      "  (0, 98464)\t0.2595740773719956\n",
      "  (0, 98381)\t0.15038047377671074\n",
      "  :\t:\n",
      "  (71785, 47589)\t0.07304823114811981\n",
      "  (71785, 45766)\t0.06093640137728518\n",
      "  (71785, 44472)\t0.046109656567849544\n",
      "  (71785, 41785)\t0.04507414872936609\n",
      "  (71785, 40573)\t0.017479092844249578\n",
      "  (71785, 33576)\t0.030177863183778252\n",
      "  (71785, 33283)\t0.0356870069078464\n",
      "  (71785, 32692)\t0.05622965232903391\n",
      "  (71785, 32017)\t0.04303415917953828\n",
      "  (71785, 31366)\t0.03510707974032932\n",
      "  (71785, 31333)\t0.044234730369994736\n",
      "  (71785, 30412)\t0.015604576869275702\n",
      "  (71785, 25586)\t0.05240508842787726\n",
      "  (71785, 25291)\t0.025700984534198716\n",
      "  (71785, 24527)\t0.03128896444060385\n",
      "  (71785, 18655)\t0.015423750623479266\n",
      "  (71785, 18422)\t0.034973229965215846\n",
      "  (71785, 14325)\t0.032607479674582995\n",
      "  (71785, 13978)\t0.0573487792725977\n",
      "  (71785, 13976)\t0.6664258429457516\n",
      "  (71785, 13596)\t0.019965986103818688\n",
      "  (71785, 10821)\t0.03191374300818849\n",
      "  (71785, 10642)\t0.046815895197318394\n",
      "  (71785, 7733)\t0.027606898903061138\n",
      "  (71785, 2618)\t0.012075081180256022\n"
     ]
    }
   ],
   "source": [
    "from sklearn.feature_extraction.text import TfidfVectorizer, CountVectorizer\n",
    "tfidf_vect = TfidfVectorizer(analyzer='word')\n",
    "tfidf_vect.fit(X)\n",
    "X_tfidf =  tfidf_vect.transform(X)\n",
    "print(X_tfidf)"
   ]
  },
  {
   "cell_type": "code",
   "execution_count": 64,
   "metadata": {},
   "outputs": [
    {
     "data": {
      "text/plain": [
       "164354"
      ]
     },
     "execution_count": 64,
     "metadata": {},
     "output_type": "execute_result"
    }
   ],
   "source": [
    "\n",
    "vocab =  tfidf_vect.get_feature_names()\n",
    "len(vocab)"
   ]
  },
  {
   "cell_type": "code",
   "execution_count": 65,
   "metadata": {},
   "outputs": [
    {
     "data": {
      "text/plain": [
       "(71786, 164354)"
      ]
     },
     "execution_count": 65,
     "metadata": {},
     "output_type": "execute_result"
    }
   ],
   "source": [
    "X_tfidf.shape"
   ]
  },
  {
   "cell_type": "code",
   "execution_count": 66,
   "metadata": {},
   "outputs": [
    {
     "data": {
      "text/plain": [
       "array(['an ninh', 'an ninh trat tu', 'bat dong san', 'bien dao',\n",
       "       'buu chinh vien thong', 'chinh sach', 'chinh tri', 'cong nghiep',\n",
       "       'dan toc', 'dau thau', 'do thi', 'doi ngoai', 'du lich',\n",
       "       'giai tri', 'giao duc', 'giao thong van tai', 'hai quan',\n",
       "       'khoa hoc cong nghe', 'kiem toan', 'kinh doanh', 'kinh te',\n",
       "       'lao dong', 'lao dong thuong binh va xa hoi', 'nang luong',\n",
       "       'nong nghiep', 'phap luat', 'phu nu', 'quoc hoi', 'quoc phong',\n",
       "       'so huu tri tue', 'suc khoe', 'tai chinh', 'tai nguyen moi truong',\n",
       "       'thanh nien', 'thanh tra', 'the thao', 'thoi trang',\n",
       "       'thong tin va truyen thong', 'thuong mai', 'tre em', 'van hoa',\n",
       "       'van nghe', 'xa hoi', 'xay dung', 'y te'], dtype='<U30')"
      ]
     },
     "execution_count": 66,
     "metadata": {},
     "output_type": "execute_result"
    }
   ],
   "source": [
    "import sklearn\n",
    "encoder = sklearn.preprocessing.LabelEncoder()\n",
    "y = encoder.fit_transform(y)\n",
    "\n",
    "encoder.classes_"
   ]
  },
  {
   "cell_type": "code",
   "execution_count": 67,
   "metadata": {},
   "outputs": [
    {
     "name": "stderr",
     "output_type": "stream",
     "text": [
      "C:\\Users\\ASUS ZenBook\\Anaconda3\\lib\\site-packages\\sklearn\\utils\\deprecation.py:143: FutureWarning: The sklearn.neighbors.base module is  deprecated in version 0.22 and will be removed in version 0.24. The corresponding classes / functions should instead be imported from sklearn.neighbors. Anything that cannot be imported from sklearn.neighbors is now part of the private API.\n",
      "  warnings.warn(message, FutureWarning)\n",
      "C:\\Users\\ASUS ZenBook\\Anaconda3\\lib\\site-packages\\sklearn\\utils\\deprecation.py:143: FutureWarning: The sklearn.ensemble.bagging module is  deprecated in version 0.22 and will be removed in version 0.24. The corresponding classes / functions should instead be imported from sklearn.ensemble. Anything that cannot be imported from sklearn.ensemble is now part of the private API.\n",
      "  warnings.warn(message, FutureWarning)\n",
      "C:\\Users\\ASUS ZenBook\\Anaconda3\\lib\\site-packages\\sklearn\\utils\\deprecation.py:143: FutureWarning: The sklearn.ensemble.base module is  deprecated in version 0.22 and will be removed in version 0.24. The corresponding classes / functions should instead be imported from sklearn.ensemble. Anything that cannot be imported from sklearn.ensemble is now part of the private API.\n",
      "  warnings.warn(message, FutureWarning)\n",
      "C:\\Users\\ASUS ZenBook\\Anaconda3\\lib\\site-packages\\sklearn\\utils\\deprecation.py:143: FutureWarning: The sklearn.ensemble.forest module is  deprecated in version 0.22 and will be removed in version 0.24. The corresponding classes / functions should instead be imported from sklearn.ensemble. Anything that cannot be imported from sklearn.ensemble is now part of the private API.\n",
      "  warnings.warn(message, FutureWarning)\n",
      "Using TensorFlow backend.\n",
      "C:\\Users\\ASUS ZenBook\\Anaconda3\\lib\\site-packages\\tensorflow\\python\\framework\\dtypes.py:516: FutureWarning: Passing (type, 1) or '1type' as a synonym of type is deprecated; in a future version of numpy, it will be understood as (type, (1,)) / '(1,)type'.\n",
      "  _np_qint8 = np.dtype([(\"qint8\", np.int8, 1)])\n",
      "C:\\Users\\ASUS ZenBook\\Anaconda3\\lib\\site-packages\\tensorflow\\python\\framework\\dtypes.py:517: FutureWarning: Passing (type, 1) or '1type' as a synonym of type is deprecated; in a future version of numpy, it will be understood as (type, (1,)) / '(1,)type'.\n",
      "  _np_quint8 = np.dtype([(\"quint8\", np.uint8, 1)])\n",
      "C:\\Users\\ASUS ZenBook\\Anaconda3\\lib\\site-packages\\tensorflow\\python\\framework\\dtypes.py:518: FutureWarning: Passing (type, 1) or '1type' as a synonym of type is deprecated; in a future version of numpy, it will be understood as (type, (1,)) / '(1,)type'.\n",
      "  _np_qint16 = np.dtype([(\"qint16\", np.int16, 1)])\n",
      "C:\\Users\\ASUS ZenBook\\Anaconda3\\lib\\site-packages\\tensorflow\\python\\framework\\dtypes.py:519: FutureWarning: Passing (type, 1) or '1type' as a synonym of type is deprecated; in a future version of numpy, it will be understood as (type, (1,)) / '(1,)type'.\n",
      "  _np_quint16 = np.dtype([(\"quint16\", np.uint16, 1)])\n",
      "C:\\Users\\ASUS ZenBook\\Anaconda3\\lib\\site-packages\\tensorflow\\python\\framework\\dtypes.py:520: FutureWarning: Passing (type, 1) or '1type' as a synonym of type is deprecated; in a future version of numpy, it will be understood as (type, (1,)) / '(1,)type'.\n",
      "  _np_qint32 = np.dtype([(\"qint32\", np.int32, 1)])\n",
      "C:\\Users\\ASUS ZenBook\\Anaconda3\\lib\\site-packages\\tensorflow\\python\\framework\\dtypes.py:525: FutureWarning: Passing (type, 1) or '1type' as a synonym of type is deprecated; in a future version of numpy, it will be understood as (type, (1,)) / '(1,)type'.\n",
      "  np_resource = np.dtype([(\"resource\", np.ubyte, 1)])\n",
      "C:\\Users\\ASUS ZenBook\\Anaconda3\\lib\\site-packages\\sklearn\\utils\\deprecation.py:143: FutureWarning: The sklearn.utils.testing module is  deprecated in version 0.22 and will be removed in version 0.24. The corresponding classes / functions should instead be imported from sklearn.utils. Anything that cannot be imported from sklearn.utils is now part of the private API.\n",
      "  warnings.warn(message, FutureWarning)\n",
      "C:\\Users\\ASUS ZenBook\\Anaconda3\\lib\\site-packages\\sklearn\\utils\\deprecation.py:143: FutureWarning: The sklearn.metrics.classification module is  deprecated in version 0.22 and will be removed in version 0.24. The corresponding classes / functions should instead be imported from sklearn.metrics. Anything that cannot be imported from sklearn.metrics is now part of the private API.\n",
      "  warnings.warn(message, FutureWarning)\n",
      "C:\\Users\\ASUS ZenBook\\Anaconda3\\lib\\site-packages\\sklearn\\utils\\deprecation.py:86: FutureWarning: Function safe_indexing is deprecated; safe_indexing is deprecated in version 0.22 and will be removed in version 0.24.\n",
      "  warnings.warn(msg, category=FutureWarning)\n"
     ]
    }
   ],
   "source": [
    "from imblearn.over_sampling import SMOTE\n",
    "oversample=SMOTE()\n",
    "X_tfidf, y=oversample.fit_resample(X_tfidf, y)"
   ]
  },
  {
   "cell_type": "code",
   "execution_count": 68,
   "metadata": {},
   "outputs": [
    {
     "name": "stdout",
     "output_type": "stream",
     "text": [
      "Counter({0: 2944, 1: 2944, 2: 2944, 3: 2944, 4: 2944, 5: 2944, 6: 2944, 7: 2944, 8: 2944, 9: 2944, 11: 2944, 10: 2944, 12: 2944, 13: 2944, 14: 2944, 15: 2944, 16: 2944, 17: 2944, 18: 2944, 19: 2944, 20: 2944, 21: 2944, 22: 2944, 23: 2944, 24: 2944, 25: 2944, 26: 2944, 27: 2944, 28: 2944, 29: 2944, 30: 2944, 31: 2944, 32: 2944, 33: 2944, 34: 2944, 35: 2944, 36: 2944, 37: 2944, 38: 2944, 39: 2944, 40: 2944, 41: 2944, 43: 2944, 42: 2944, 44: 2944})\n"
     ]
    }
   ],
   "source": [
    "import collections\n",
    "\n",
    "print(collections.Counter(y))"
   ]
  },
  {
   "cell_type": "code",
   "execution_count": 69,
   "metadata": {},
   "outputs": [
    {
     "name": "stdout",
     "output_type": "stream",
     "text": [
      "Train accuracy:  0.9388371290545203\n",
      "Validation accuracy:  0.8448570853462157\n"
     ]
    }
   ],
   "source": [
    "from sklearn.svm import SVC   \n",
    "from sklearn.model_selection import train_test_split      \n",
    "X_train, X_val, y_train, y_val = train_test_split(X_tfidf, y, test_size=0.3, random_state=42)\n",
    "       \n",
    "cl=SVC().fit(X_train, y_train)\n",
    "\n",
    "train_predictions = cl.predict(X_train)\n",
    "val_predictions = cl.predict(X_val)\n",
    "\n",
    "print(\"Train accuracy: \", sklearn.metrics.accuracy_score(train_predictions, y_train))\n",
    "print(\"Validation accuracy: \", sklearn.metrics.accuracy_score(val_predictions, y_val))"
   ]
  },
  {
   "cell_type": "code",
   "execution_count": 34,
   "metadata": {},
   "outputs": [],
   "source": [
    "\n",
    "from sklearn.cluster import KMeans\n",
    "kmeans=KMeans(n_clusters=45, random_state=0).fit(X_tfidf)\n",
    "     \n",
    "     \n",
    "    \n",
    "    "
   ]
  },
  {
   "cell_type": "code",
   "execution_count": 54,
   "metadata": {},
   "outputs": [],
   "source": [
    "y_pred=kmeans.labels_\n",
    "\n"
   ]
  },
  {
   "cell_type": "code",
   "execution_count": 55,
   "metadata": {},
   "outputs": [
    {
     "name": "stdout",
     "output_type": "stream",
     "text": [
      "Accuracy:  1.1408909815284318\n",
      "Precision (micro):  1.1408909815284318\n",
      "Precision (macro):  1.009044083165669\n",
      "Recall (macro):  1.4587373415531897\n",
      "Recall(micro):  1.1408909815284318\n",
      "F1-scores(macro):  0.8212203695295505\n",
      "F1-scores(micro):  1.1408909815284318\n"
     ]
    }
   ],
   "source": [
    "from sklearn import metrics\n",
    "print(\"Accuracy: \", 100*metrics.accuracy_score(y, y_pred))\n",
    "\n",
    "print(\"Precision (micro): \", 100*metrics.precision_score(y, y_pred, average='micro'))\n",
    "print(\"Precision (macro): \", 100*metrics.precision_score(y, y_pred, average='macro'))\n",
    "\n",
    "print(\"Recall (macro): \", 100*metrics.recall_score(y, y_pred, average='macro'))\n",
    "\n",
    "\n",
    "print(\"Recall(micro): \", 100*metrics.recall_score(y, y_pred, average='micro'))\n",
    "\n",
    "print(\"F1-scores(macro): \", 100*metrics.f1_score(y, y_pred, average='macro'))\n",
    "\n",
    "print(\"F1-scores(micro): \", 100*metrics.f1_score(y, y_pred, average='micro'))"
   ]
  },
  {
   "cell_type": "code",
   "execution_count": null,
   "metadata": {},
   "outputs": [],
   "source": []
  }
 ],
 "metadata": {
  "kernelspec": {
   "display_name": "Python 3",
   "language": "python",
   "name": "python3"
  },
  "language_info": {
   "codemirror_mode": {
    "name": "ipython",
    "version": 3
   },
   "file_extension": ".py",
   "mimetype": "text/x-python",
   "name": "python",
   "nbconvert_exporter": "python",
   "pygments_lexer": "ipython3",
   "version": "3.7.7"
  }
 },
 "nbformat": 4,
 "nbformat_minor": 4
}
